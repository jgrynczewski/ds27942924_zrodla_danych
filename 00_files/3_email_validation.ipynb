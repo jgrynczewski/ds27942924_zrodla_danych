{
 "cells": [
  {
   "cell_type": "markdown",
   "id": "0578822f-d318-412c-bced-7b1e16e173e4",
   "metadata": {},
   "source": [
    "#### Na czym polega przetwarzanie tekstu ? Jakie operacje są typowe dla przetwarzania tekstu?\n",
    "\n",
    "- filtrowanie,\n",
    "- zastępowanie,\n",
    "- usuwanie,\n",
    "- walidacja\n",
    "\n",
    "Wszystkie te operacje wymagają wyszukiwania w tekście jakiegoś wzorca (do przefitrowania/zmodyfikowania/usunięcia/...)."
   ]
  },
  {
   "cell_type": "markdown",
   "id": "d87a4b67-6057-49af-bc6f-8e911800f28c",
   "metadata": {},
   "source": [
    "*regex* (aka *regular expression*) to nic innego jak wzorzec w tekście. \n",
    "\n",
    "Po co używamy wzorców?\n",
    "* do wyszukiwania fragmentu danych/tekstu. Na przykład, możemy chcieć z długiego tekstu wybrać wyłącznie numery telefonów. \n",
    "* do dopasowywania fragmentu danych/tesktu. Na przykład, możemy chcieć zwalidować wprowadzony przez użytkownika mail. W tym celu można go zestawić z wzorcem reprezentującym prawidłowy mail.\n",
    "* do oczyszczanie danych/tekstu. Na przykład, możemy chcieć usunąć z tekstu wulgarne słowa."
   ]
  },
  {
   "cell_type": "markdown",
   "id": "29f55275-e927-43b6-b301-f38e30ac8af5",
   "metadata": {},
   "source": [
    "Załóżmy, że nie znamy regexów i chcemy zwalidować tekst, który dostaliśmy od użytkownika - sprawdzić czy jest to prawidłowy email."
   ]
  },
  {
   "cell_type": "code",
   "execution_count": null,
   "id": "48f398db-064e-4325-b70e-fb9534ef08f7",
   "metadata": {},
   "outputs": [],
   "source": [
    "# Podaj email\n"
   ]
  },
  {
   "cell_type": "code",
   "execution_count": null,
   "id": "55a4d6b3-8e8b-4b29-88af-8efab2d4202e",
   "metadata": {},
   "outputs": [],
   "source": [
    "# Sprawdzamy obecność znaku `@`\n"
   ]
  },
  {
   "cell_type": "code",
   "execution_count": null,
   "id": "5d334cf9-ce3a-413c-b6f3-3d40f6f833d0",
   "metadata": {},
   "outputs": [],
   "source": [
    "# Sprawdzamy obecność znaku `.`\n"
   ]
  },
  {
   "cell_type": "code",
   "execution_count": null,
   "id": "da3be39c-7bc3-4c0c-bb3f-1b4a7fb17603",
   "metadata": {},
   "outputs": [],
   "source": [
    "# '.@' - rozbudowujemy\n"
   ]
  },
  {
   "cell_type": "code",
   "execution_count": null,
   "id": "27a22896-151e-41e9-804a-e9678d84411c",
   "metadata": {},
   "outputs": [],
   "source": [
    "# subdomena `edu` lub `com`\n"
   ]
  },
  {
   "cell_type": "markdown",
   "id": "a1260e0b-5ec3-470b-8f63-51bebbab323d",
   "metadata": {},
   "source": [
    "Oczywiście możemy dalej to rozwijać, ale liczba możliwych dróg bardzo szybko zacznie wybuchać (jeżeli ..., to jeżeli ..., to ...)."
   ]
  },
  {
   "cell_type": "markdown",
   "id": "dc477b33-8cf0-46e0-88e7-dff35a50b260",
   "metadata": {},
   "source": [
    "Wyrażenia regularne do pomocy."
   ]
  }
 ],
 "metadata": {
  "kernelspec": {
   "display_name": "Python 3 (ipykernel)",
   "language": "python",
   "name": "python3"
  },
  "language_info": {
   "codemirror_mode": {
    "name": "ipython",
    "version": 3
   },
   "file_extension": ".py",
   "mimetype": "text/x-python",
   "name": "python",
   "nbconvert_exporter": "python",
   "pygments_lexer": "ipython3",
   "version": "3.11.1"
  }
 },
 "nbformat": 4,
 "nbformat_minor": 5
}
