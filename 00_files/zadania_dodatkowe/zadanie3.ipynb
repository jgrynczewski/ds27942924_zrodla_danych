{
 "cells": [
  {
   "cell_type": "markdown",
   "id": "588a2980-c25c-4a5a-bbb2-a756de8b6cd4",
   "metadata": {},
   "source": [
    "### Zadanie 3: Analiza Logów Użytkowników"
   ]
  },
  {
   "cell_type": "markdown",
   "id": "a682329f-1403-4244-935e-4e4044e319b8",
   "metadata": {},
   "source": [
    "#### Opis zadania:\n",
    "\n",
    "Jesteś analitykiem danych w firmie zajmującej się analizą ruchu na stronach internetowych. Twoim zadaniem jest przeanalizowanie plików logów użytkowników zapisanych w pliku `audit.log`, aby zidentyfikować podstawowe wzorce w ich zachowaniu. Plik z logami zawiera informacje o aktywności użytkowników, takie jak czas, adres IP, identyfikator użytkownika oraz akcja.\n",
    "\n",
    "Twoje zadanie polega na napisaniu skryptu w Pythonie, który wykona następujące operacje:\n",
    "\n",
    "1. Wczyta zawartość pliku z logami użytkowników.\n",
    "2. Zidentyfikuje unikalne adresy IP.\n",
    "3. Policzy liczbę logowań (LOGIN) dla każdego użytkownika.\n",
    "4. Znajdzie wszystkie strony odwiedzane przez użytkowników (akcje VIEW_PAGE).\n",
    "5. Zidentyfikuje użytkowników, którzy się wylogowali (LOGOUT).\n",
    "6. Zapisze wyniki analizy do nowego pliku (user_analysis.txt)."
   ]
  },
  {
   "cell_type": "markdown",
   "id": "ee606e4b-341d-412e-870b-0ba13b8b3168",
   "metadata": {},
   "source": [
    "#### 1. Wczytanie zawartość pliku z logami użytkowników"
   ]
  },
  {
   "cell_type": "code",
   "execution_count": null,
   "id": "17cf2a23-5c97-4279-ba20-a20206e431ca",
   "metadata": {},
   "outputs": [],
   "source": []
  },
  {
   "cell_type": "markdown",
   "id": "9de86900-de30-4299-84fd-79fa632b31df",
   "metadata": {},
   "source": [
    "#### 2. Identyfikacja unikalnych adresów IP"
   ]
  },
  {
   "cell_type": "code",
   "execution_count": null,
   "id": "1ee79f1f-3171-4417-a5e1-64d89ed0a120",
   "metadata": {},
   "outputs": [],
   "source": []
  },
  {
   "cell_type": "markdown",
   "id": "eed70b44-df6e-41f4-8820-4ee3f3037ef9",
   "metadata": {},
   "source": [
    "#### 3. Policzenie liczby logowań (LOGIN) dla każdego użytkownika"
   ]
  },
  {
   "cell_type": "code",
   "execution_count": null,
   "id": "62e81675-50ce-4ffe-bb23-37a06c97eb43",
   "metadata": {},
   "outputs": [],
   "source": []
  },
  {
   "cell_type": "markdown",
   "id": "c5000f32-4bc5-41ce-ba88-f8446c4858b7",
   "metadata": {},
   "source": [
    "#### 4. Znalezienie wszystkich stron odwiedzanych przez użytkowników (akcje VIEW_PAGE)"
   ]
  },
  {
   "cell_type": "code",
   "execution_count": null,
   "id": "ccda4fcd-5ca4-442e-8237-81566b148209",
   "metadata": {},
   "outputs": [],
   "source": []
  },
  {
   "cell_type": "markdown",
   "id": "0e1006c9-3095-4045-883b-44fa2e3bf507",
   "metadata": {},
   "source": [
    "#### 5. Zidentyfikowanie użytkowników, którzy się wylogowali (LOGOUT)"
   ]
  },
  {
   "cell_type": "code",
   "execution_count": null,
   "id": "ff906250-9e52-4697-b125-3d8bfe182185",
   "metadata": {},
   "outputs": [],
   "source": []
  },
  {
   "cell_type": "markdown",
   "id": "4f7c4124-dfb8-46b8-b2b2-0fd4173aa74d",
   "metadata": {},
   "source": [
    "#### 6. Zapisanie wyników analizy do nowego pliku (user_analysis.txt)"
   ]
  },
  {
   "cell_type": "code",
   "execution_count": null,
   "id": "0bd79082-a73b-4bdb-b7dd-69f1526735bd",
   "metadata": {},
   "outputs": [],
   "source": []
  }
 ],
 "metadata": {
  "kernelspec": {
   "display_name": "Python 3 (ipykernel)",
   "language": "python",
   "name": "python3"
  },
  "language_info": {
   "codemirror_mode": {
    "name": "ipython",
    "version": 3
   },
   "file_extension": ".py",
   "mimetype": "text/x-python",
   "name": "python",
   "nbconvert_exporter": "python",
   "pygments_lexer": "ipython3",
   "version": "3.11.1"
  }
 },
 "nbformat": 4,
 "nbformat_minor": 5
}
