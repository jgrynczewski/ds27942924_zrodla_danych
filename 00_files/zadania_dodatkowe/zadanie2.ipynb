{
 "cells": [
  {
   "cell_type": "markdown",
   "id": "2c333e8e-e5ec-48ab-9ac0-fd24d8bf25c8",
   "metadata": {},
   "source": [
    "### Zadanie 2: Analiza Danych Pogodowych"
   ]
  },
  {
   "cell_type": "markdown",
   "id": "6e31f9c8-0101-46fa-afec-a84ee414542a",
   "metadata": {},
   "source": [
    "#### Opis zadania:\n",
    "Jesteś analitykiem danych w firmie meteorologicznej. Twoim zadaniem jest przeanalizowanie danych pogodowych, aby zidentyfikować trendy i anomalie w temperaturach. Plik z danymi pogodowymi `weather_data.txt` zawiera informacje o temperaturach z różnych dni i godzin."
   ]
  },
  {
   "cell_type": "markdown",
   "id": "95e29f8e-f4ca-4e53-b922-b17329ef7572",
   "metadata": {},
   "source": [
    "Twoje zadanie polega na napisaniu skryptu w Pythonie, który wykona następujące operacje:\n",
    "\n",
    "1. Wczyta zawartość pliku z danymi pogodowymi.\n",
    "2. Policz średnią temperaturę dla każdego dnia.\n",
    "3. Znajdzie dzień z najwyższą i najniższą średnią temperaturą.\n",
    "4. Znajdzie godzinę z najwyższą i najniższą temperaturą dla każdego dnia.\n",
    "5. Zapisze wyniki analizy do nowego pliku (weather_analysis.txt)."
   ]
  },
  {
   "cell_type": "markdown",
   "id": "df3c7fc9-a83b-4ee6-bdd3-28d1d49d994f",
   "metadata": {},
   "source": [
    "#### 1. Wczytanie zawartość pliku z danymi pogodowymi"
   ]
  },
  {
   "cell_type": "code",
   "execution_count": null,
   "id": "da82a364-0bf2-40c8-9376-13478035f199",
   "metadata": {},
   "outputs": [],
   "source": []
  },
  {
   "cell_type": "markdown",
   "id": "f586e38f-a937-47a1-add0-6977fb6df805",
   "metadata": {},
   "source": [
    "#### 2. Policzenie średniej temperatury dla każdego dnia"
   ]
  },
  {
   "cell_type": "code",
   "execution_count": null,
   "id": "86039b90-d541-48c3-bb71-ecf90e958337",
   "metadata": {},
   "outputs": [],
   "source": []
  },
  {
   "cell_type": "markdown",
   "id": "19729478-41c0-4c8d-8632-51420589208a",
   "metadata": {},
   "source": [
    "#### 3. Znalezienie dnia z najwyższą i najniższą średnią temperaturą"
   ]
  },
  {
   "cell_type": "code",
   "execution_count": null,
   "id": "9dc3e3b6-3db7-4353-b355-ff57a4a5f14b",
   "metadata": {},
   "outputs": [],
   "source": []
  },
  {
   "cell_type": "markdown",
   "id": "15505a64-8ed3-4e61-9de2-1e3eeb604c33",
   "metadata": {},
   "source": [
    "#### 4. Znalezienie godziny z najwyższą i najniższą temperaturą dla każdego dnia"
   ]
  },
  {
   "cell_type": "code",
   "execution_count": null,
   "id": "dc32bdec-7bfa-4d80-90d5-589bf18698a6",
   "metadata": {},
   "outputs": [],
   "source": []
  },
  {
   "cell_type": "markdown",
   "id": "b88f8c0b-36bd-4947-a25d-c8a75935c6b0",
   "metadata": {},
   "source": [
    "#### 5. Zapisanie wyniku analizy do nowego pliku (weather_analysis.txt)"
   ]
  },
  {
   "cell_type": "code",
   "execution_count": null,
   "id": "4c156b2a-3062-40ea-b5a8-72173991080e",
   "metadata": {},
   "outputs": [],
   "source": []
  }
 ],
 "metadata": {
  "kernelspec": {
   "display_name": "Python 3 (ipykernel)",
   "language": "python",
   "name": "python3"
  },
  "language_info": {
   "codemirror_mode": {
    "name": "ipython",
    "version": 3
   },
   "file_extension": ".py",
   "mimetype": "text/x-python",
   "name": "python",
   "nbconvert_exporter": "python",
   "pygments_lexer": "ipython3",
   "version": "3.11.1"
  }
 },
 "nbformat": 4,
 "nbformat_minor": 5
}
