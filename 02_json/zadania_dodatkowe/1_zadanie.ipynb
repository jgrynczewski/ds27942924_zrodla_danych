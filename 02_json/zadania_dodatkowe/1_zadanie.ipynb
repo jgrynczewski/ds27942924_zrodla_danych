{
 "cells": [
  {
   "cell_type": "markdown",
   "id": "df2f1d94-ac77-4868-b107-62ebde3eb4c9",
   "metadata": {},
   "source": [
    "### Wczytywanie danych w formacie json\n",
    "\n",
    "Plik `products.json` zawiera dane o produktach w sklepie zapisane w formacie `json`. Twoim zadaniem jest wczytanie danych z tego pliku, a następnie wyciągnięcie i wyświetlenie informacji o produkcie o najwyższej cenie. Dodatkowo, wyświetl listę wszystkich produktów, które są dostępne w magazynie."
   ]
  },
  {
   "cell_type": "code",
   "execution_count": null,
   "id": "4243ead1-ac23-4fd6-9b34-9015799aa852",
   "metadata": {},
   "outputs": [],
   "source": [
    "# Wczytywanie pliku JSON\n"
   ]
  },
  {
   "cell_type": "code",
   "execution_count": null,
   "id": "cfa5e8b7-5875-42b5-ab1c-ee5b5a7b6511",
   "metadata": {},
   "outputs": [],
   "source": [
    "# Znalezienie produktu o najwyższej cenie (beginner version)\n"
   ]
  },
  {
   "cell_type": "code",
   "execution_count": null,
   "id": "7a2896cf-d13a-4f9b-9a18-9f00e5ca3f61",
   "metadata": {},
   "outputs": [],
   "source": [
    "# Znalezienie produktu o najwyższej cenie (pro version)\n"
   ]
  },
  {
   "cell_type": "code",
   "execution_count": null,
   "id": "dab07655-4d1c-42ee-b0e1-78eb9b312e18",
   "metadata": {},
   "outputs": [],
   "source": [
    "# Wyświetlenie produktów dostępnych w magazynie (beginner version)\n"
   ]
  },
  {
   "cell_type": "code",
   "execution_count": null,
   "id": "9d44ea45-64eb-4911-933b-bef6ac0c4bb3",
   "metadata": {},
   "outputs": [],
   "source": [
    "# Wyświetlenie produktów dostępnych w magazynie (pro version)\n"
   ]
  }
 ],
 "metadata": {
  "kernelspec": {
   "display_name": "Python 3 (ipykernel)",
   "language": "python",
   "name": "python3"
  },
  "language_info": {
   "codemirror_mode": {
    "name": "ipython",
    "version": 3
   },
   "file_extension": ".py",
   "mimetype": "text/x-python",
   "name": "python",
   "nbconvert_exporter": "python",
   "pygments_lexer": "ipython3",
   "version": "3.11.1"
  }
 },
 "nbformat": 4,
 "nbformat_minor": 5
}
