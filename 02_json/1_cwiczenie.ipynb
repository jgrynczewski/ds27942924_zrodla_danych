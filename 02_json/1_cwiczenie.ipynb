{
 "cells": [
  {
   "cell_type": "markdown",
   "id": "1866258f-7776-45bc-9eb2-fb808c5b9445",
   "metadata": {},
   "source": [
    "### Wczytywanie danych w formacie json\n",
    "\n",
    "Plik `employees.json` zawiera dane o pracownikach firmy zapisane w formacie `json`. Wczytaj dane z tego pliku, a następnie wyciągnij i wyświetl informacje o pracowniku o najdłuższym stażu pracy. Dodatkowo, wyświetl listę wszystkich pracowników, którzy pracują w dziale \"IT\"."
   ]
  },
  {
   "cell_type": "code",
   "execution_count": 1,
   "id": "c11bb73e-f0cd-4aa1-af5b-e1cee066bc7a",
   "metadata": {},
   "outputs": [
    {
     "name": "stdout",
     "output_type": "stream",
     "text": [
      "{\n",
      "  \"employees\": [\n",
      "    {\n",
      "      \"name\": \"Jan Kowalski\",\n",
      "      \"department\": \"HR\",\n",
      "      \"years_of_service\": 5\n",
      "    },\n",
      "    {\n",
      "      \"name\": \"Anna Nowak\",\n",
      "      \"department\": \"IT\",\n",
      "      \"years_of_service\": 3\n",
      "    },\n",
      "    {\n",
      "      \"name\": \"Piotr Wiśniewski\",\n",
      "      \"department\": \"Finance\",\n",
      "      \"years_of_service\": 7\n",
      "    },\n",
      "    {\n",
      "      \"name\": \"Katarzyna Wójcik\",\n",
      "      \"department\": \"IT\",\n",
      "      \"years_of_service\": 6\n",
      "    },\n",
      "    {\n",
      "      \"name\": \"Tomasz Lewandowski\",\n",
      "      \"department\": \"Marketing\",\n",
      "      \"years_of_service\": 2\n",
      "    }\n",
      "  ]\n",
      "}\n",
      "\n"
     ]
    }
   ],
   "source": [
    "# Próba wczytania pliku JSON\n",
    "with open('employees.json', encoding='utf-8') as f:\n",
    "    content = f.read()\n",
    "\n",
    "print(content)  # str"
   ]
  },
  {
   "cell_type": "code",
   "execution_count": 2,
   "id": "e0de1f22-b198-4afe-800a-7c6fe40efc91",
   "metadata": {},
   "outputs": [
    {
     "name": "stdout",
     "output_type": "stream",
     "text": [
      "<class 'str'>\n"
     ]
    }
   ],
   "source": [
    "print(type(content))"
   ]
  },
  {
   "cell_type": "code",
   "execution_count": 4,
   "id": "c71ebc21-c924-41d9-aeac-ee226df6c47f",
   "metadata": {},
   "outputs": [
    {
     "ename": "TypeError",
     "evalue": "string indices must be integers, not 'str'",
     "output_type": "error",
     "traceback": [
      "\u001b[1;31m---------------------------------------------------------------------------\u001b[0m",
      "\u001b[1;31mTypeError\u001b[0m                                 Traceback (most recent call last)",
      "Cell \u001b[1;32mIn[4], line 3\u001b[0m\n\u001b[0;32m      1\u001b[0m \u001b[38;5;66;03m# Próba traktowania tego napisu jakby był słownikiem mija się z celem.\u001b[39;00m\n\u001b[1;32m----> 3\u001b[0m \u001b[43mcontent\u001b[49m\u001b[43m[\u001b[49m\u001b[38;5;124;43m'\u001b[39;49m\u001b[38;5;124;43memployees\u001b[39;49m\u001b[38;5;124;43m'\u001b[39;49m\u001b[43m]\u001b[49m  \u001b[38;5;66;03m# To jest napis (a nie słownik)!\u001b[39;00m\n",
      "\u001b[1;31mTypeError\u001b[0m: string indices must be integers, not 'str'"
     ]
    }
   ],
   "source": [
    "# Próba traktowania tego napisu jakby był słownikiem mija się z celem.\n",
    "\n",
    "content['employees']  # To jest napis (a nie słownik)!"
   ]
  },
  {
   "cell_type": "code",
   "execution_count": 5,
   "id": "0c2c6cd6-9869-40e8-b9fc-d927b8a1b3d9",
   "metadata": {},
   "outputs": [
    {
     "name": "stdout",
     "output_type": "stream",
     "text": [
      "['JSONDecodeError', 'JSONDecoder', 'JSONEncoder', '__all__', '__author__', '__builtins__', '__cached__', '__doc__', '__file__', '__loader__', '__name__', '__package__', '__path__', '__spec__', '__version__', '_default_decoder', '_default_encoder', 'codecs', 'decoder', 'detect_encoding', 'dump', 'dumps', 'encoder', 'load', 'loads', 'scanner']\n"
     ]
    }
   ],
   "source": [
    "# Wczytanie pliku JSON (za pomocą biblioteki JSON)\n",
    "import json\n",
    "\n",
    "print(dir(json))"
   ]
  },
  {
   "cell_type": "markdown",
   "id": "daff0168-a01f-46f9-81c9-80eedea662cf",
   "metadata": {},
   "source": [
    "### Deserializacja (dekodowanie)\n",
    "\n",
    "Zmienna `content` jest napisem. My z tego napisu chcemy otrzymać jakąś struktrę danych, która pozowli nam pracować na tych danych, a nie na napisie. Pomoże nam w tym funkcja json.loads (loads od **load s**tring)"
   ]
  },
  {
   "cell_type": "code",
   "execution_count": 6,
   "id": "cf6a6607-13d9-4cd2-8ac4-b3a5025d4462",
   "metadata": {},
   "outputs": [
    {
     "name": "stdout",
     "output_type": "stream",
     "text": [
      "{'employees': [{'name': 'Jan Kowalski', 'department': 'HR', 'years_of_service': 5}, {'name': 'Anna Nowak', 'department': 'IT', 'years_of_service': 3}, {'name': 'Piotr Wiśniewski', 'department': 'Finance', 'years_of_service': 7}, {'name': 'Katarzyna Wójcik', 'department': 'IT', 'years_of_service': 6}, {'name': 'Tomasz Lewandowski', 'department': 'Marketing', 'years_of_service': 2}]}\n"
     ]
    }
   ],
   "source": [
    "# deserializacja jsona do słownika pythonowego\n",
    "data = json.loads(content)\n",
    "print(data)"
   ]
  },
  {
   "cell_type": "markdown",
   "id": "c6418ade-dc5c-4b93-aa66-341962dd58b1",
   "metadata": {},
   "source": [
    "Możemy też użyć funkcji `load`, która bezpośrednio deserializuje jsona z obiektu otwartego pliku (bez pośredniego etapu wczytywania zawartości pliku do napisu pythonowego)."
   ]
  },
  {
   "cell_type": "code",
   "execution_count": 8,
   "id": "94d0d1be-5167-4f7f-82fd-f936435c775a",
   "metadata": {},
   "outputs": [
    {
     "name": "stdout",
     "output_type": "stream",
     "text": [
      "{'employees': [{'name': 'Jan Kowalski', 'department': 'HR', 'years_of_service': 5}, {'name': 'Anna Nowak', 'department': 'IT', 'years_of_service': 3}, {'name': 'Piotr Wiśniewski', 'department': 'Finance', 'years_of_service': 7}, {'name': 'Katarzyna Wójcik', 'department': 'IT', 'years_of_service': 6}, {'name': 'Tomasz Lewandowski', 'department': 'Marketing', 'years_of_service': 2}]}\n"
     ]
    }
   ],
   "source": [
    "with open('employees.json', encoding='utf-8') as f:\n",
    "    data = json.load(f)\n",
    "\n",
    "print(data)"
   ]
  },
  {
   "cell_type": "code",
   "execution_count": 10,
   "id": "7247e61c-060c-422a-90a2-c719f89804c9",
   "metadata": {},
   "outputs": [
    {
     "name": "stdout",
     "output_type": "stream",
     "text": [
      "Pracownik o najdłuższym stażu pracy to: Piotr Wiśniewski (7 lat pracy)\n"
     ]
    }
   ],
   "source": [
    "# Znalezienie pracownika o najdłuższym stażu pracy\n",
    "employees = data['employees']\n",
    "\n",
    "max_employee = employees[0]\n",
    "for employee in employees:\n",
    "    if max_employee['years_of_service'] < employee['years_of_service']:\n",
    "        max_employee = employee\n",
    "\n",
    "\n",
    "print(f\"Pracownik o najdłuższym stażu pracy to: {max_employee['name']} ({max_employee['years_of_service']} lat pracy)\")"
   ]
  },
  {
   "cell_type": "code",
   "execution_count": 12,
   "id": "593b4c5a-9e31-4420-b89f-8c087c491eeb",
   "metadata": {},
   "outputs": [
    {
     "name": "stdout",
     "output_type": "stream",
     "text": [
      "Pracownicy z działu IT to:\n",
      "  - Anna Nowak\n",
      "  - Katarzyna Wójcik\n"
     ]
    }
   ],
   "source": [
    "# Wyświetlenie pracowników z działu IT\n",
    "it_employees = []\n",
    "\n",
    "for employee in employees:\n",
    "    if employee['department'] == 'IT':\n",
    "        it_employees.append(employee)\n",
    "\n",
    "\n",
    "print(\"Pracownicy z działu IT to:\")\n",
    "for employee in it_employees:\n",
    "    print(f\"  - {employee['name']}\")"
   ]
  }
 ],
 "metadata": {
  "kernelspec": {
   "display_name": "Python 3 (ipykernel)",
   "language": "python",
   "name": "python3"
  },
  "language_info": {
   "codemirror_mode": {
    "name": "ipython",
    "version": 3
   },
   "file_extension": ".py",
   "mimetype": "text/x-python",
   "name": "python",
   "nbconvert_exporter": "python",
   "pygments_lexer": "ipython3",
   "version": "3.11.1"
  }
 },
 "nbformat": 4,
 "nbformat_minor": 5
}
