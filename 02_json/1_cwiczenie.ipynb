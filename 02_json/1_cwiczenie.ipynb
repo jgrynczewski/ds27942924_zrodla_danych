{
 "cells": [
  {
   "cell_type": "markdown",
   "id": "1866258f-7776-45bc-9eb2-fb808c5b9445",
   "metadata": {},
   "source": [
    "### Wczytywanie danych w formacie json\n",
    "\n",
    "Plik `employees.json` zawiera dane o pracownikach firmy zapisane w formacie `json`. Wczytaj dane z tego pliku, a następnie wyciągnij i wyświetl informacje o pracowniku o najdłuższym stażu pracy. Dodatkowo, wyświetl listę wszystkich pracowników, którzy pracują w dziale \"IT\"."
   ]
  },
  {
   "cell_type": "code",
   "execution_count": null,
   "id": "c11bb73e-f0cd-4aa1-af5b-e1cee066bc7a",
   "metadata": {},
   "outputs": [],
   "source": [
    "# Próba wczytania pliku JSON\n"
   ]
  },
  {
   "cell_type": "code",
   "execution_count": null,
   "id": "0c2c6cd6-9869-40e8-b9fc-d927b8a1b3d9",
   "metadata": {},
   "outputs": [],
   "source": [
    "# Wczytanie pliku JSON (za pomocą biblioteki JSON)\n"
   ]
  },
  {
   "cell_type": "code",
   "execution_count": null,
   "id": "7247e61c-060c-422a-90a2-c719f89804c9",
   "metadata": {},
   "outputs": [],
   "source": [
    "# Znalezienie pracownika o najdłuższym stażu pracy\n"
   ]
  },
  {
   "cell_type": "code",
   "execution_count": null,
   "id": "593b4c5a-9e31-4420-b89f-8c087c491eeb",
   "metadata": {},
   "outputs": [],
   "source": [
    "# Wyświetlenie pracowników z działu IT\n"
   ]
  }
 ],
 "metadata": {
  "kernelspec": {
   "display_name": "Python 3 (ipykernel)",
   "language": "python",
   "name": "python3"
  },
  "language_info": {
   "codemirror_mode": {
    "name": "ipython",
    "version": 3
   },
   "file_extension": ".py",
   "mimetype": "text/x-python",
   "name": "python",
   "nbconvert_exporter": "python",
   "pygments_lexer": "ipython3",
   "version": "3.11.1"
  }
 },
 "nbformat": 4,
 "nbformat_minor": 5
}
