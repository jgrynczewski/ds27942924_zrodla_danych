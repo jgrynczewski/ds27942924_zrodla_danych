{
 "cells": [
  {
   "cell_type": "markdown",
   "id": "1866258f-7776-45bc-9eb2-fb808c5b9445",
   "metadata": {},
   "source": [
    "### Wczytywanie danych w formacie json\n",
    "\n",
    "Plik `employees.json` zawiera dane o pracownikach firmy zapisane w formacie `json`. Wczytaj dane z tego pliku, a następnie wyciągnij i wyświetl informacje o pracowniku o najdłuższym stażu pracy. Dodatkowo, wyświetl listę wszystkich pracowników, którzy pracują w dziale \"IT\"."
   ]
  },
  {
   "cell_type": "code",
   "execution_count": 11,
   "id": "c11bb73e-f0cd-4aa1-af5b-e1cee066bc7a",
   "metadata": {},
   "outputs": [
    {
     "data": {
      "text/plain": [
       "{'employees': [{'name': 'Jan Kowalski',\n",
       "   'department': 'HR',\n",
       "   'years_of_service': 5},\n",
       "  {'name': 'Anna Nowak', 'department': 'IT', 'years_of_service': 3},\n",
       "  {'name': 'Piotr Wiśniewski', 'department': 'Finance', 'years_of_service': 7},\n",
       "  {'name': 'Katarzyna Wójcik', 'department': 'IT', 'years_of_service': 6},\n",
       "  {'name': 'Tomasz Lewandowski',\n",
       "   'department': 'Marketing',\n",
       "   'years_of_service': 2}]}"
      ]
     },
     "execution_count": 11,
     "metadata": {},
     "output_type": "execute_result"
    }
   ],
   "source": [
    "import json\n",
    "\n",
    "# Wczytanie pliku JSON\n",
    "with open('employees.json', 'r', encoding='utf-8') as file:  # bez encoding nie będzie polskich znaków tutaj (dlaczego)\n",
    "    data = json.load(file)\n",
    "\n",
    "data"
   ]
  },
  {
   "cell_type": "code",
   "execution_count": 12,
   "id": "7247e61c-060c-422a-90a2-c719f89804c9",
   "metadata": {},
   "outputs": [
    {
     "name": "stdout",
     "output_type": "stream",
     "text": [
      "Pracownik o najdłuższym stażu: Piotr Wiśniewski, staż: 7 lat\n"
     ]
    }
   ],
   "source": [
    "# Znalezienie pracownika o najdłuższym stażu pracy\n",
    "longest_serving_employee = max(data['employees'], key=lambda x: x['years_of_service'])\n",
    "print(f\"Pracownik o najdłuższym stażu: {longest_serving_employee['name']}, staż: {longest_serving_employee['years_of_service']} lat\")"
   ]
  },
  {
   "cell_type": "code",
   "execution_count": 13,
   "id": "593b4c5a-9e31-4420-b89f-8c087c491eeb",
   "metadata": {},
   "outputs": [
    {
     "name": "stdout",
     "output_type": "stream",
     "text": [
      "Pracownicy z działu IT:\n",
      "Anna Nowak, staż: 3 lat\n",
      "Katarzyna Wójcik, staż: 6 lat\n"
     ]
    }
   ],
   "source": [
    "# Wyświetlenie pracowników z działu IT\n",
    "it_employees = [employee for employee in data['employees'] if employee['department'] == 'IT']\n",
    "print(\"Pracownicy z działu IT:\")\n",
    "for employee in it_employees:\n",
    "    print(f\"{employee['name']}, staż: {employee['years_of_service']} lat\")"
   ]
  }
 ],
 "metadata": {
  "kernelspec": {
   "display_name": "Python 3 (ipykernel)",
   "language": "python",
   "name": "python3"
  },
  "language_info": {
   "codemirror_mode": {
    "name": "ipython",
    "version": 3
   },
   "file_extension": ".py",
   "mimetype": "text/x-python",
   "name": "python",
   "nbconvert_exporter": "python",
   "pygments_lexer": "ipython3",
   "version": "3.11.1"
  }
 },
 "nbformat": 4,
 "nbformat_minor": 5
}
