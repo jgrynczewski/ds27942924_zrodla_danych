{
 "cells": [
  {
   "cell_type": "markdown",
   "id": "a8076d1c-13eb-40b2-8761-971d8fe62957",
   "metadata": {},
   "source": [
    "#### Zapisywanie zawartości do pliku JSON\n",
    "\n",
    "W zmiennej new_employees znajduje się lista danych o nowych pracownikach, którą należy zapisać do pliku JSON. Napisz skrypt, który zapisze te dane do pliku `new_employees.json` w formacie `json`."
   ]
  },
  {
   "cell_type": "code",
   "execution_count": null,
   "id": "dbef7288-e969-4895-8ddc-1346d12013fe",
   "metadata": {},
   "outputs": [],
   "source": [
    "new_employees = [\n",
    "    {\n",
    "        \"name\": \"Marcin Kwiatkowski\",\n",
    "        \"department\": \"Logistics\",\n",
    "        \"years_of_service\": 1\n",
    "    },\n",
    "    {\n",
    "        \"name\": \"Joanna Zawadzka\",\n",
    "        \"department\": \"IT\",\n",
    "        \"years_of_service\": 4\n",
    "    },\n",
    "    {\n",
    "        \"name\": \"Robert Majewski\",\n",
    "        \"department\": \"HR\",\n",
    "        \"years_of_service\": 2\n",
    "    }\n",
    "]\n"
   ]
  },
  {
   "cell_type": "code",
   "execution_count": null,
   "id": "a1a259c7-a317-4315-b064-71dd4f343f68",
   "metadata": {},
   "outputs": [],
   "source": [
    "# Rozwiązanie\n"
   ]
  }
 ],
 "metadata": {
  "kernelspec": {
   "display_name": "Python 3 (ipykernel)",
   "language": "python",
   "name": "python3"
  },
  "language_info": {
   "codemirror_mode": {
    "name": "ipython",
    "version": 3
   },
   "file_extension": ".py",
   "mimetype": "text/x-python",
   "name": "python",
   "nbconvert_exporter": "python",
   "pygments_lexer": "ipython3",
   "version": "3.11.1"
  }
 },
 "nbformat": 4,
 "nbformat_minor": 5
}
