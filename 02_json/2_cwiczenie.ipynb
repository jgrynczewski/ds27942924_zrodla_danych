{
 "cells": [
  {
   "cell_type": "markdown",
   "id": "a8076d1c-13eb-40b2-8761-971d8fe62957",
   "metadata": {},
   "source": [
    "#### Zapisywanie zawartości do pliku JSON\n",
    "\n",
    "W zmiennej new_employees znajduje się lista danych o nowych pracownikach, którą należy zapisać do pliku JSON. Napisz skrypt, który zapisze te dane do pliku `new_employees.json` w formacie `json`."
   ]
  },
  {
   "cell_type": "code",
   "execution_count": 3,
   "id": "dbef7288-e969-4895-8ddc-1346d12013fe",
   "metadata": {},
   "outputs": [],
   "source": [
    "new_employees = [\n",
    "    {\n",
    "        \"name\": \"Marcin Kwiatkowski\",\n",
    "        \"department\": \"Logistics\",\n",
    "        \"years_of_service\": 1\n",
    "    },\n",
    "    {\n",
    "        \"name\": \"Joanna Zawadzka\",\n",
    "        \"department\": \"IT\",\n",
    "        \"years_of_service\": 4\n",
    "    },\n",
    "    {\n",
    "        \"name\": \"Robert Majewski\",\n",
    "        \"department\": \"HR\",\n",
    "        \"years_of_service\": 2\n",
    "    }\n",
    "]\n"
   ]
  },
  {
   "cell_type": "code",
   "execution_count": null,
   "id": "a1a259c7-a317-4315-b064-71dd4f343f68",
   "metadata": {},
   "outputs": [],
   "source": [
    "# Rozwiązanie\n"
   ]
  },
  {
   "cell_type": "markdown",
   "id": "b5c73726-b427-4cde-bd6f-e1a4c3178fc3",
   "metadata": {},
   "source": [
    "Tym razem mamy do czynienia z serializacją danych (słownika python) do formatu JSON."
   ]
  },
  {
   "cell_type": "code",
   "execution_count": 4,
   "id": "189f4a06-b32a-4257-8d5f-5e1962f5df6a",
   "metadata": {},
   "outputs": [
    {
     "name": "stdout",
     "output_type": "stream",
     "text": [
      "['JSONDecodeError', 'JSONDecoder', 'JSONEncoder', '__all__', '__author__', '__builtins__', '__cached__', '__doc__', '__file__', '__loader__', '__name__', '__package__', '__path__', '__spec__', '__version__', '_default_decoder', '_default_encoder', 'codecs', 'decoder', 'detect_encoding', 'dump', 'dumps', 'encoder', 'load', 'loads', 'scanner']\n"
     ]
    }
   ],
   "source": [
    "import json\n",
    "\n",
    "print(dir(json))"
   ]
  },
  {
   "cell_type": "markdown",
   "id": "786890bb-89f3-4e42-be70-86b4448a8ae7",
   "metadata": {},
   "source": [
    "Do serializacji do formatu json służą funkce dump i dumps (od (**dump** to **s**tring)"
   ]
  },
  {
   "cell_type": "code",
   "execution_count": 5,
   "id": "0103fd70-1579-4919-955b-6e2e9f968d0a",
   "metadata": {},
   "outputs": [
    {
     "name": "stdout",
     "output_type": "stream",
     "text": [
      "[{'name': 'Marcin Kwiatkowski', 'department': 'Logistics', 'years_of_service': 1}, {'name': 'Joanna Zawadzka', 'department': 'IT', 'years_of_service': 4}, {'name': 'Robert Majewski', 'department': 'HR', 'years_of_service': 2}]\n"
     ]
    }
   ],
   "source": [
    "print(new_employees)"
   ]
  },
  {
   "cell_type": "code",
   "execution_count": 6,
   "id": "90f7d72b-d5fc-403b-a4d7-a3f68af4d57a",
   "metadata": {},
   "outputs": [
    {
     "name": "stdout",
     "output_type": "stream",
     "text": [
      "[{\"name\": \"Marcin Kwiatkowski\", \"department\": \"Logistics\", \"years_of_service\": 1}, {\"name\": \"Joanna Zawadzka\", \"department\": \"IT\", \"years_of_service\": 4}, {\"name\": \"Robert Majewski\", \"department\": \"HR\", \"years_of_service\": 2}]\n"
     ]
    }
   ],
   "source": [
    "# Najpierw zserializujmy słownik do napisu\n",
    "\n",
    "json_data = json.dumps(new_employees)\n",
    "print(json_data)"
   ]
  },
  {
   "cell_type": "code",
   "execution_count": 8,
   "id": "e831ac8b-b4ea-4009-814e-e34aa8f5e0eb",
   "metadata": {},
   "outputs": [],
   "source": [
    "# i teraz można taki string zapisać do pliku\n",
    "\n",
    "with open('new_employees.json', 'w', encoding='utf-8') as f:\n",
    "    f.write(json_data)"
   ]
  },
  {
   "cell_type": "markdown",
   "id": "ca6907c7-22f7-4feb-9784-b99171e0fc75",
   "metadata": {},
   "source": [
    "taki jsonowy string można renderować za pomocą opcjonalnego parametru `indent`"
   ]
  },
  {
   "cell_type": "code",
   "execution_count": 10,
   "id": "3ec1a9e2-ba44-4b96-85c8-d8b27ab02659",
   "metadata": {},
   "outputs": [
    {
     "name": "stdout",
     "output_type": "stream",
     "text": [
      "[\n",
      "    {\n",
      "        \"name\": \"Marcin Kwiatkowski\",\n",
      "        \"department\": \"Logistics\",\n",
      "        \"years_of_service\": 1\n",
      "    },\n",
      "    {\n",
      "        \"name\": \"Joanna Zawadzka\",\n",
      "        \"department\": \"IT\",\n",
      "        \"years_of_service\": 4\n",
      "    },\n",
      "    {\n",
      "        \"name\": \"Robert Majewski\",\n",
      "        \"department\": \"HR\",\n",
      "        \"years_of_service\": 2\n",
      "    }\n",
      "]\n"
     ]
    }
   ],
   "source": [
    "json_data = json.dumps(new_employees, indent=4)\n",
    "print(json_data)"
   ]
  },
  {
   "cell_type": "markdown",
   "id": "c95418bb-d294-4609-b00c-b6cb880903d6",
   "metadata": {},
   "source": [
    "No i można też oczywiście serializować dane bezpośrednio do pliku, z pominięciem kroku pośredniego, czyli wczytwania danych do napisu (funkcja `dump`)"
   ]
  },
  {
   "cell_type": "code",
   "execution_count": 12,
   "id": "cd2b6b78-3d96-4226-8e2b-555c1514be39",
   "metadata": {},
   "outputs": [],
   "source": [
    "with open('new_employees2.json', 'w', encoding='utf-8') as f:\n",
    "    json.dump(new_employees, f)"
   ]
  },
  {
   "cell_type": "code",
   "execution_count": null,
   "id": "cf92cc41-f0ae-4331-b846-73c90419c151",
   "metadata": {},
   "outputs": [],
   "source": [
    "                          --> serializacją -->\n",
    "dane w programie                                           dane zapisane w pamięci\n",
    "                          <-- deserializacja <--"
   ]
  }
 ],
 "metadata": {
  "kernelspec": {
   "display_name": "Python 3 (ipykernel)",
   "language": "python",
   "name": "python3"
  },
  "language_info": {
   "codemirror_mode": {
    "name": "ipython",
    "version": 3
   },
   "file_extension": ".py",
   "mimetype": "text/x-python",
   "name": "python",
   "nbconvert_exporter": "python",
   "pygments_lexer": "ipython3",
   "version": "3.11.1"
  }
 },
 "nbformat": 4,
 "nbformat_minor": 5
}
