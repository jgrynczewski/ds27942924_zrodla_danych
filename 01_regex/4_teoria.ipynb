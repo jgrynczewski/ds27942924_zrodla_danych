{
 "cells": [
  {
   "cell_type": "markdown",
   "id": "f923e9c4-d8b1-4302-b9ee-33c84cde23ae",
   "metadata": {},
   "source": [
    "## Wyrażenia regularne w Pythonie"
   ]
  },
  {
   "cell_type": "markdown",
   "id": "157fb6d4-0a3b-44a5-a488-f47c97a1e87b",
   "metadata": {},
   "source": [
    "### 1. Biblioteka [`re`](https://docs.python.org/3/library/re.html)"
   ]
  },
  {
   "cell_type": "markdown",
   "id": "9129bb4c-de19-4f5b-a70e-22350b44824a",
   "metadata": {},
   "source": [
    "Najpopularniejszą biblioteką do pracy z wyrażeniami regularnymi w Pythonie jest biblioteka [`re`](https://docs.python.org/3/library/re.html). Biblioteka [`re`](https://docs.python.org/3/library/re.html) jest częścią standardowej biblioteki Pythona, więc nie trzeba jej instalować. Wystarczy zaimportować."
   ]
  },
  {
   "cell_type": "code",
   "execution_count": null,
   "id": "8108f6d6-9cce-405c-8103-48cd6a26b4b2",
   "metadata": {},
   "outputs": [],
   "source": [
    "# importujemy bibliotekę `re`\n"
   ]
  },
  {
   "cell_type": "markdown",
   "id": "c2bd1855-6fc8-4d1a-b139-1bb2f643720b",
   "metadata": {},
   "source": [
    "Pierwszym zdaniem, jakie przeczytamy w dokumentacji biblioteki jest:\n",
    "\n",
    "**\"This module provides regular expression matching operations similar to those found in Perl.\"**\n",
    "\n",
    "więc, jak łatwo się domyślić biblioteka wspiera standard `PCRE`. "
   ]
  },
  {
   "cell_type": "markdown",
   "id": "97bb96e4-5c9d-4277-bf37-6d6f515acdde",
   "metadata": {},
   "source": [
    "Popatrzmy jakie funkcje zawiera biblioteka re"
   ]
  },
  {
   "cell_type": "code",
   "execution_count": null,
   "id": "ccd25db3-4843-4004-8228-61ee0affeeca",
   "metadata": {},
   "outputs": [],
   "source": [
    "# Sprawdżmy przestrzeń nazwa modułu `re`\n"
   ]
  },
  {
   "cell_type": "markdown",
   "id": "f3cb9e19-e538-418b-b421-77fd5a2a6173",
   "metadata": {},
   "source": [
    "Do najpopularniejszych funkcji biblioteki `re` należą:\n",
    "\n",
    "| Funkcja       | Opis                                                                 | Przykład zastosowania                           |\n",
    "| ------------- | -------------------------------------------------------------------- | ----------------------------------------------- |\n",
    "| `re.match()`  | Sprawdza, czy początek stringu pasuje do wzorca.                     | `re.match(r'\\d+', '123abc')` zwróci dopasowanie na `'123'` |\n",
    "| `re.search()` | Przeszukuje string w poszukiwaniu pierwszego wystąpienia wzorca.     | `re.search(r'\\d+', 'abc123def')` zwróci dopasowanie na `'123'` |\n",
    "| `re.findall()`| Zwraca listę wszystkich niepokrywających się dopasowań wzorca.       | `re.findall(r'\\d+', 'abc123def456')` zwróci `['123', '456']` |\n",
    "| `re.finditer()`| Zwraca iterator zwracający wszystkie niepokrywające się dopasowania. | `re.finditer(r'\\d+', 'abc123def456')` zwróci iterator obiektów dopasowania |\n",
    "| `re.split()`  | Dzieli string na listę, używając wzorca jako separatora.             | `re.split(r'\\d+', 'abc123def456')` zwróci `['abc', 'def', '']` |\n",
    "| `re.sub()`    | Zastępuje wszystkie wystąpienia wzorca stringiem zastępczym.         | `re.sub(r'\\d+', '-', 'abc123def456')` zwróci `'abc-def-'` |\n",
    "| `re.compile()`| Kompiluje wzorzec do obiektu wyrażenia regularnego, aby używać go wielokrotnie. | `pattern = re.compile(r'\\d+'); pattern.match('123abc')` zwróci dopasowanie na `'123'` |\n"
   ]
  },
  {
   "cell_type": "markdown",
   "id": "dd0b0523-f596-45d4-b105-02ae4f6805aa",
   "metadata": {},
   "source": [
    "W przykładowych zastosowaniach widzimy literę `r` przed napisem. Co ona oznacza ?"
   ]
  },
  {
   "cell_type": "markdown",
   "id": "d220b7a5-6d56-4a54-8873-f9cbd330b852",
   "metadata": {},
   "source": [
    "### 2. Surowe napisy (ang. Raw string)\n",
    "\n",
    "Surowe napisy to napis z prefixem r (może być r lub R)."
   ]
  },
  {
   "cell_type": "code",
   "execution_count": null,
   "id": "ab192644-356f-47e0-9e8e-b9d8aab16883",
   "metadata": {},
   "outputs": [],
   "source": [
    "# Zwykły napis\n"
   ]
  },
  {
   "cell_type": "code",
   "execution_count": null,
   "id": "693fc1c2-2f02-4ea6-9e72-5b8f0e45eabd",
   "metadata": {},
   "outputs": [],
   "source": [
    "# Surowy napis r''\n"
   ]
  },
  {
   "cell_type": "code",
   "execution_count": null,
   "id": "6bb6a479-f32e-40b5-a773-f3ab8bd775ff",
   "metadata": {},
   "outputs": [],
   "source": [
    "# Surowy napis R''\n"
   ]
  },
  {
   "cell_type": "markdown",
   "id": "44891555-4313-4c24-bcb1-c28717f19880",
   "metadata": {},
   "source": [
    "To jaka jest róznica pomiędzy surowym napisem (czyli napisem z poprzedzającym go literą `r`), a zwykłym napisem?\n",
    "\n",
    "W surowych napisach znak ucieczki (`\\`) jest ignorowany i tym samym wszystkie sekwencje specjalne wygenerowane za jego pomocą też są ignorowane."
   ]
  },
  {
   "cell_type": "markdown",
   "id": "f6b8cf9a-ca64-4a43-84ac-441068a42da3",
   "metadata": {},
   "source": [
    "Co to sekwencje specjalne? \n",
    "\n",
    "Sekwencje specjalne to sekwencje znaków, które pełnią specjalną funkcję, np. `\\n` - to sekwencja oznaczająca znak nowej linii (a nie jak mogłoby się wydawać backslash z literą alfabetu `n`)."
   ]
  },
  {
   "cell_type": "code",
   "execution_count": null,
   "id": "d1a4cd57-4577-4a43-b8dd-ac4b1118ab16",
   "metadata": {},
   "outputs": [],
   "source": [
    "# Znak nowej linii (sekwencje specjalne w Pythonie)\n"
   ]
  },
  {
   "cell_type": "markdown",
   "id": "534a5361-16bb-47d1-94b0-6986e9b1c577",
   "metadata": {},
   "source": [
    "Taka sekwencja użyta wewnątrz surowego napisu traci swoją specjalną funkcję."
   ]
  },
  {
   "cell_type": "code",
   "execution_count": null,
   "id": "4c69061a-5e8e-4ba9-af71-91404ea3b5ad",
   "metadata": {},
   "outputs": [],
   "source": [
    "# Znak nowej linii w surowym napisie\n"
   ]
  },
  {
   "cell_type": "markdown",
   "id": "d543c7dd-2ed0-4e3e-b73f-7d229f770d5e",
   "metadata": {},
   "source": [
    "W Pythonie do sekwencji specjalnych należą:\n",
    "\n",
    "| Escape Sequence | Meaning Notes |\n",
    "| --------------- | ------------- |  \n",
    "| \\\\\\\\  |  Backslash (\\) |    \n",
    "| \\\\' |   Single quote (') |     \n",
    "| \\\\\"  |   Double quote (\")  |    \n",
    "| \\a   |  ASCII Bell (BEL)  |    \n",
    "| \\b  |  ASCII Backspace (BS) |     \n",
    "| \\f |   ASCII Formfeed (FF) | \n",
    "| \\n  |  ASCII Linefeed (LF) | \n",
    "| \\N{name} | Character named name in the Unicode database (Unicode only) |\n",
    "| \\r  |  ASCII Carriage Return (CR) |   \n",
    "| \\t  |  ASCII Horizontal Tab (TAB)  | \n",
    "| \\uxxxx  |  Character with 16-bit hex value xxxx (Unicode only) |\n",
    "| \\Uxxxxxxxx  |  Character with 32-bit hex value xxxxxxxx (Unicode only) | \n",
    "| \\v  |  ASCII Vertical Tab (VT) | \n",
    "| \\ooo | Character with octal value ooo |\n",
    "| \\xhh |  Character with hex value hh |"
   ]
  },
  {
   "cell_type": "markdown",
   "id": "14381e11-8311-4b9c-87dd-bf1d636415d5",
   "metadata": {},
   "source": [
    "W **surowym napisie** Python ignoruje specjalną funkcję znaku ucieczki i traktuje ten znak jak i wszystkie sekwencje rozpoczynające się od znaku ucieczki jako zwykłe znaki. "
   ]
  },
  {
   "cell_type": "markdown",
   "id": "9deabd02-8ca2-4cfb-a8eb-d1ddb9456f49",
   "metadata": {},
   "source": [
    "Dlaczego możemy chcieć pozbyć się specjalnej funkcji jakiejś sekwencji, a tak naprawdę specjalnej funkcji znaku `\\` ?\n",
    "\n",
    "Pozwala to na swobodne używanie znaku `\\` w wyrażeniach regularnych, gdzie pełni inną, równie ważną rolę."
   ]
  },
  {
   "cell_type": "markdown",
   "id": "6c734d4c-cd41-40ae-bdb4-059be2c640fc",
   "metadata": {},
   "source": [
    "Kiedy już wiemy co oznacza litera `r` wróćmy do przykładowych zastosowań."
   ]
  },
  {
   "cell_type": "markdown",
   "id": "bfdb9034-0b1b-4fdc-bc98-a2c38e53de18",
   "metadata": {},
   "source": [
    "### 3. Przykładowe zastosowania podstawowych funkcji biblioteki `re`."
   ]
  },
  {
   "cell_type": "markdown",
   "id": "8010c833-33ce-43ac-9cad-43deca2ea32e",
   "metadata": {},
   "source": [
    "#### A. [`re.match`](https://docs.python.org/3/library/re.html#re.match)\n",
    "\n",
    "Opis: Sprawdza, czy początek stringu pasuje do wzorca."
   ]
  },
  {
   "cell_type": "markdown",
   "id": "590dd860-7d4f-4903-a72d-c9b310429939",
   "metadata": {},
   "source": [
    "Zacznijmy od funkcji [`re.match`](https://docs.python.org/3/library/re.html#re.match) - funkcja szuka dopasowania, zaczynając od **początku** napisu. \n",
    "\n",
    "Jeżeli nie znajdzie dopasowania na **początku** napisu zwraca None."
   ]
  },
  {
   "cell_type": "code",
   "execution_count": null,
   "id": "a51b4afe-9792-4696-8eb6-786affc2b560",
   "metadata": {},
   "outputs": [],
   "source": [
    "# Dopasowanie numeru telefonu na początku napisu (`re.match`)\n"
   ]
  },
  {
   "cell_type": "markdown",
   "id": "8217377c-03e8-4f86-bc20-a353ac1a129f",
   "metadata": {},
   "source": [
    "Jeżeli znajdzie dopasowanie na **początku** napisu zwraca obiekt klasy [`re.Match`](https://docs.python.org/3/library/re.html#re.Match)."
   ]
  },
  {
   "cell_type": "code",
   "execution_count": null,
   "id": "1a9440bd-2e6b-4e6f-8ed7-f50096151e88",
   "metadata": {},
   "outputs": [],
   "source": [
    "# Dopasowanie numeru telefonu na początku napisu (`re.match`), text i pattern w oddzielnych linijkach\n"
   ]
  },
  {
   "cell_type": "code",
   "execution_count": null,
   "id": "ff66f12d-e0b2-4bd9-ac3e-bc5ff93d8743",
   "metadata": {},
   "outputs": [],
   "source": [
    "# Wynik ?\n"
   ]
  },
  {
   "cell_type": "markdown",
   "id": "d3188d44-4fd3-48fa-adf1-5fef53e53849",
   "metadata": {},
   "source": [
    "Obiekt klasy re.Match reprezentuje fragment napisu pasujący do wzorca.\n",
    "\n",
    "Co potrafią obiekty klasy [`re.Match`](https://docs.python.org/3/library/re.html#re.Match) ?"
   ]
  },
  {
   "cell_type": "code",
   "execution_count": null,
   "id": "9eb5da12-74c2-49ee-b693-cb3e7d1df1f9",
   "metadata": {},
   "outputs": [],
   "source": [
    "# Co potrafi klasa `re.Match`\n"
   ]
  },
  {
   "cell_type": "markdown",
   "id": "08818c16-8a87-49cb-ba2b-2ee1b26db44e",
   "metadata": {},
   "source": [
    "Do najpopularniejszych metod obiektu klasy re.Match należą:\n",
    "\n",
    "| Metoda | Opis |\n",
    "|--------|------|\n",
    "| `start()` | Zwraca indeks początku dopasowania |\n",
    "| `end()`   | Zwraca indeks końca dopasowania |\n",
    "| `span()`  | Zwraca krotkę zawierającą indeks początku i końca dopasowania |\n",
    "| `group()` | Zwraca całą dopasowaną część ciągu znaków |\n",
    "\n",
    "Omówmy każdy z osobna."
   ]
  },
  {
   "cell_type": "code",
   "execution_count": null,
   "id": "3cb6ccdf-f84f-46ac-8958-896055d416a8",
   "metadata": {},
   "outputs": [],
   "source": [
    "# metoda start\n",
    "\n",
    "# int"
   ]
  },
  {
   "cell_type": "markdown",
   "id": "b85de43d-894b-4115-ac17-a5127d0f1ee2",
   "metadata": {},
   "source": [
    "2. `end` - metoda zwracająca indeks końca dopasowania"
   ]
  },
  {
   "cell_type": "code",
   "execution_count": null,
   "id": "7d24a0cc-2e4a-4f99-92db-18ef7b6defa1",
   "metadata": {},
   "outputs": [],
   "source": [
    "# metoda end \n",
    "\n",
    "# int"
   ]
  },
  {
   "cell_type": "markdown",
   "id": "2bfdd055-e29b-40a8-8b50-7e5c4409fe9f",
   "metadata": {},
   "source": [
    "Za pomocą metod `start` i `end` oraz szatkowaniu sekwencji łatwo możemy wyciąć z napisu dopasowany fragment."
   ]
  },
  {
   "cell_type": "code",
   "execution_count": null,
   "id": "037b68d6-7d20-4eee-8b75-21b52df79d4c",
   "metadata": {},
   "outputs": [],
   "source": [
    "# Wycinek zawierający dopasowanie\n"
   ]
  },
  {
   "cell_type": "markdown",
   "id": "5da96ee5-889a-4b2b-896f-13c8185dcc97",
   "metadata": {},
   "source": [
    "3. `span` - metoda zwracająca dwuelementową krotkę. Na pierwszej pozycji w krotce znajduje się indeks początku dopasowania, na drugiej indeks końca dopasowania."
   ]
  },
  {
   "cell_type": "code",
   "execution_count": null,
   "id": "6474f309-5a75-47f7-bda5-029254af4dd9",
   "metadata": {},
   "outputs": [],
   "source": [
    "# metoda span\n",
    "\n",
    "# tuple"
   ]
  },
  {
   "cell_type": "markdown",
   "id": "8c3123fe-8f0c-45a1-ab63-7f9c387add77",
   "metadata": {},
   "source": [
    "Za pomocą metody `span` równie łatwo jest wyciągnać z napisu dopasowany fragment."
   ]
  },
  {
   "cell_type": "code",
   "execution_count": null,
   "id": "38fe89d5-30ec-4713-a2a0-752c00592b24",
   "metadata": {},
   "outputs": [],
   "source": [
    "# Wycinek zawierający dopasowanie za pomocą span\n"
   ]
  },
  {
   "cell_type": "markdown",
   "id": "c9954f9f-3d39-437d-8e2b-99a4c907c901",
   "metadata": {},
   "source": [
    "Ale nie trzeba ręcznie wycinać z tekstu dopasowania. Obiekt klasy `re.Match` sam potrafi zwrócić dopasowany tekst."
   ]
  },
  {
   "cell_type": "markdown",
   "id": "b8a81e85-1c1d-4364-8cac-47446765ad69",
   "metadata": {},
   "source": [
    "4. `group` - metoda zwracająca całą dopasowaną część ciągu znaków"
   ]
  },
  {
   "cell_type": "code",
   "execution_count": null,
   "id": "30d0e6a7-e4c8-4f11-9e99-77c6c37302d3",
   "metadata": {},
   "outputs": [],
   "source": [
    "# metoda group\n",
    "\n",
    "# str"
   ]
  },
  {
   "cell_type": "markdown",
   "id": "38b50494-91ec-4628-9b57-788f205069fc",
   "metadata": {},
   "source": [
    "Sprawa się odrobinę komplikuję kiedy użyjemy grupowania.\n",
    "\n",
    "Pogrupujmy nasze dopasowanie w trzy tercety."
   ]
  },
  {
   "cell_type": "code",
   "execution_count": null,
   "id": "0263c58a-c609-44a4-b16a-a528ead67d3a",
   "metadata": {},
   "outputs": [],
   "source": [
    "# Dopasowanie numeru telefonu na początku napisu - grupowanie\n"
   ]
  },
  {
   "cell_type": "markdown",
   "id": "82958970-aec0-48f2-bbab-15d22f759fba",
   "metadata": {},
   "source": [
    "Popatrzmy na metodę `start`."
   ]
  },
  {
   "cell_type": "code",
   "execution_count": null,
   "id": "47e9f7a0-66f0-4e09-86fd-1aa36b848b6e",
   "metadata": {},
   "outputs": [],
   "source": [
    "# metoda start\n"
   ]
  },
  {
   "cell_type": "markdown",
   "id": "db76b1d7-0bb2-4740-8499-f959b32ac40f",
   "metadata": {},
   "source": [
    "Wydawałoby się bez zmian.\n",
    "\n",
    "Ale metoda start posiada opcjonalny parametr `group`, a jej pełna sygnatura wygląda tak:\n",
    "\n",
    "$$start([group])$$\n",
    "\n",
    ", gdzie `group` jest numerem grupy (grupowania). I tak:"
   ]
  },
  {
   "cell_type": "markdown",
   "id": "e2e50fd3-5834-4ae3-b984-ea13439f4afa",
   "metadata": {},
   "source": [
    "0 oznacza pełne dopasowanie."
   ]
  },
  {
   "cell_type": "code",
   "execution_count": null,
   "id": "7e9c282f-af8e-4222-bffa-d7d366df43c9",
   "metadata": {},
   "outputs": [],
   "source": [
    "# metoda start - pierwszy element\n"
   ]
  },
  {
   "cell_type": "markdown",
   "id": "eb091d2f-80cc-48cf-a313-a52017e1b1c8",
   "metadata": {},
   "source": [
    "1 oznacza pierwszą grupę."
   ]
  },
  {
   "cell_type": "code",
   "execution_count": null,
   "id": "796bef55-e3f0-404c-8eb7-0612ff5b011e",
   "metadata": {},
   "outputs": [],
   "source": [
    "# metoda start - drugi element\n"
   ]
  },
  {
   "cell_type": "markdown",
   "id": "7023c4f9-2256-4ff9-bde3-61e0e706d0f2",
   "metadata": {},
   "source": [
    "2 oznacza drugą grupę"
   ]
  },
  {
   "cell_type": "code",
   "execution_count": null,
   "id": "07242159-30be-465e-9229-22f6726bda8d",
   "metadata": {},
   "outputs": [],
   "source": [
    "# metoda start - trzeci element\n"
   ]
  },
  {
   "cell_type": "markdown",
   "id": "f7d2786f-365f-4cca-af18-1ac648181d50",
   "metadata": {},
   "source": [
    "3 oznacza trzecią grupę"
   ]
  },
  {
   "cell_type": "code",
   "execution_count": null,
   "id": "fd9f707d-06f5-4fa7-9125-cd533774f2cb",
   "metadata": {},
   "outputs": [],
   "source": [
    "# metoda start - czwarty element\n"
   ]
  },
  {
   "cell_type": "markdown",
   "id": "e423b8f8-2eef-4ed3-b852-805fb6d65003",
   "metadata": {},
   "source": [
    "a 4 oznacza 4 grupę (o ile istnieje)."
   ]
  },
  {
   "cell_type": "code",
   "execution_count": null,
   "id": "312108d8-0c83-4d09-b329-5bd8a97a0d5c",
   "metadata": {},
   "outputs": [],
   "source": [
    "# metoda start - piąty element\n"
   ]
  },
  {
   "cell_type": "markdown",
   "id": "d65f6254-cc1a-437c-aa9c-fd3d735e9b5f",
   "metadata": {},
   "source": [
    "W przeciwnym razie dostaniemy wyjątek `IndexError`."
   ]
  },
  {
   "cell_type": "markdown",
   "id": "72317881-a0b5-4b32-aaac-56beb616528a",
   "metadata": {},
   "source": [
    "Powyższ reguła dotyczy wszystkich poznanych metod."
   ]
  },
  {
   "cell_type": "code",
   "execution_count": null,
   "id": "275be1cb-2564-45a1-a591-ba1299f0c2dd",
   "metadata": {},
   "outputs": [],
   "source": [
    "# metoda end - czwarty element\n"
   ]
  },
  {
   "cell_type": "code",
   "execution_count": null,
   "id": "ee6ec9c1-943e-46c7-8dfe-7136996a19de",
   "metadata": {},
   "outputs": [],
   "source": [
    "# metoda span - czwarty element\n"
   ]
  },
  {
   "cell_type": "code",
   "execution_count": null,
   "id": "0114a5b6-0a83-4e1b-8dca-430ec5690b76",
   "metadata": {},
   "outputs": [],
   "source": [
    "# metoda group - czwarty element\n"
   ]
  },
  {
   "cell_type": "markdown",
   "id": "bf7b5783-cae4-4ed0-9488-493ea88bc604",
   "metadata": {},
   "source": [
    "Ponadto jeżeli zastosowaliśmy grupowanie w naszym wzorcu, pomocna może być metoda `groups()`. Metoda zwraca krotkę, której elementami są dopasowania wszystkich grup."
   ]
  },
  {
   "cell_type": "code",
   "execution_count": null,
   "id": "08debc3f-5255-4542-b992-4f9e87af53ba",
   "metadata": {},
   "outputs": [],
   "source": [
    "# metoda groups\n"
   ]
  },
  {
   "cell_type": "markdown",
   "id": "a045b762-ecd3-4925-91ad-047419e93ced",
   "metadata": {},
   "source": [
    "#### Podsumowanie"
   ]
  },
  {
   "cell_type": "markdown",
   "id": "be8e1be7-94cc-4b8d-b3db-3a505b1b1c67",
   "metadata": {},
   "source": [
    "Kompletny opis najpopularniejszych metod obiektów klasy `re.Match`:\n",
    "\n",
    "| Metoda | Opis |\n",
    "|--------|------|\n",
    "| `start([group])` | Zwraca indeks początku dopasowania lub początku podciągu odpowiadającego określonej grupie. |\n",
    "| `end([group])`   | Zwraca indeks końca dopasowania lub końca podciągu odpowiadającego określonej grupie. |\n",
    "| `span([group])`  | Zwraca krotkę zawierającą indeks początku i końca dopasowania lub podciągu odpowiadającego określonej grupie. |\n",
    "| `group([group1, ...])` | Zwraca całą dopasowaną część ciągu znaków lub podciąg odpowiadający określonej grupie. |\n",
    "| `groups([default])` | Zwraca wszystkie podciągi odpowiadające grupom jako krotkę. Można podać wartość domyślną dla grup, które nie mają dopasowania. |"
   ]
  },
  {
   "cell_type": "markdown",
   "id": "fd75d4d7-0890-4fcd-bf5d-bed714704510",
   "metadata": {},
   "source": [
    "Kompletny przykład"
   ]
  },
  {
   "cell_type": "code",
   "execution_count": null,
   "id": "2a73d4b0-d607-40ce-9505-c0153eab5192",
   "metadata": {},
   "outputs": [],
   "source": [
    "# Dopasowanie numeru telefonu na początku stringu - całość\n",
    "import re\n",
    "\n",
    "result = re.match(r'\\d{3}-\\d{3}-\\d{4}', '123-456-7890 is my phone number')\n",
    "if result:\n",
    "    print(f'Matched: {result.group()}')  # Output: Matched: 123-456-7890"
   ]
  },
  {
   "cell_type": "markdown",
   "id": "fdbf65c4-06e0-4236-a091-c0004f252b9f",
   "metadata": {},
   "source": [
    "#### B. [`re.search`](https://docs.python.org/3/library/re.html#re.search)\n",
    "\n",
    "Opis: Przeszukuje string w poszukiwaniu **pierwszego** wystąpienia wzorca. Jedyną różnicą względem metody `re.match` jest fakt, że metoda `re.search` przeszukuje cały napis w poszukiwaniu wzorca, a nie patrzy tylko na początek napisu."
   ]
  },
  {
   "cell_type": "code",
   "execution_count": null,
   "id": "c1d9b396-78a4-4e8b-8c66-bd08175f98a3",
   "metadata": {},
   "outputs": [],
   "source": [
    "# Znajdowanie numeru telefonu w stringu (`search`)\n",
    "\n",
    "text = 'Contact me at 123-456-7890 or 987-654-3210'"
   ]
  },
  {
   "cell_type": "markdown",
   "id": "7233aaf3-33c9-40e4-8092-480d3b8b0a75",
   "metadata": {},
   "source": [
    "Widzimy, że w wyniku dostajemy obiekt klasy re.Match (pierwszy znaleziony), którego właściwości już sobie omówiliśmy w części dotyczącej metody `re.match`."
   ]
  },
  {
   "cell_type": "code",
   "execution_count": null,
   "id": "1c638a9a-fcdb-48f9-a34b-df560e867822",
   "metadata": {},
   "outputs": [],
   "source": [
    "# Znajdowanie numeru telefonu w stringu (`search`)\n"
   ]
  },
  {
   "cell_type": "markdown",
   "id": "c8490f8b-a589-4f32-bec9-a8d81b62fd9f",
   "metadata": {},
   "source": [
    "A co jeżeli chcemy znaleźć wszystkie wystąpienia wzorca w tekście?\n",
    "\n",
    "W takim przypadku pomoże nam metoda `re.findall`."
   ]
  },
  {
   "cell_type": "markdown",
   "id": "0b3f8f9c-d4a9-4069-b2f1-3bb292db8a78",
   "metadata": {},
   "source": [
    "#### C. [`re.findall`](https://docs.python.org/3/library/re.html#re.findall)\n",
    "\n",
    "Opis: Zwraca listę wszystkich niepokrywających się dopasowań wzorca."
   ]
  },
  {
   "cell_type": "code",
   "execution_count": null,
   "id": "177b1670-eade-4cec-926c-3055c31b963f",
   "metadata": {},
   "outputs": [],
   "source": [
    "# Znajdowanie wszystkich adresów e-mail w stringu (`findall`)\n",
    "\n",
    "text = 'Send an email to test@example.com and info@company.org'\n",
    "\n",
    "# Output: ['test@example.com', 'info@company.org']"
   ]
  },
  {
   "cell_type": "markdown",
   "id": "b1e9a363-a8e7-4af3-8e96-4816953b36b9",
   "metadata": {},
   "source": [
    "Ale wynik jaki dostaliśmy nie wygląda już jak obiekt klasy `re.Match`."
   ]
  },
  {
   "cell_type": "code",
   "execution_count": null,
   "id": "7367673d-bf87-4271-b3e0-996733e58de2",
   "metadata": {},
   "outputs": [],
   "source": [
    "# jakiej klasy jest wynik ?\n",
    "\n"
   ]
  },
  {
   "cell_type": "markdown",
   "id": "8ab5ff58-63c6-448f-ae6b-4fbc70ca27c2",
   "metadata": {},
   "source": [
    "Rzeczywiście tym razem w wyniku dostaliśmy listę dopasowań."
   ]
  },
  {
   "cell_type": "markdown",
   "id": "2a7e363e-9c4e-47c9-8c20-8a0cd689e496",
   "metadata": {},
   "source": [
    "**Uwaga** \\\n",
    "W przypadku zastosowania grup, metoda `findall` zwraca listę dopasowań grup zamiast dopasowań pełnego wzorca. "
   ]
  },
  {
   "cell_type": "code",
   "execution_count": null,
   "id": "a5a10cd7-7476-476e-8666-2ee74418c4b9",
   "metadata": {},
   "outputs": [],
   "source": [
    "# Znajdowanie wszystkich adresów e-mail w stringu (`findall`) - grupowanie\n",
    "\n",
    "text = 'Send an email to test@example.com and info@company.org'\n",
    "\n",
    "# Output: ['example', 'company']"
   ]
  },
  {
   "cell_type": "markdown",
   "id": "99aa9a55-89ae-4160-b1d2-062e83eb68a2",
   "metadata": {},
   "source": [
    "Idziemy dalej. \n",
    "\n",
    "Z grupami, czy bez metoda `findall` zwraca listę. I jak to z listą. W przypadku dużej liczby dopasowań martwimy się czy wystarczy nam pamięci ram, żeby całą listę do niej zapakować.\n",
    "\n",
    "I jak to zwykle w tych przypadkach bywa, generatory (w ogólności iteratory, bo każdy generator jest iteratorem) przychodzą nam z pomocą - `re.finditer`."
   ]
  },
  {
   "cell_type": "markdown",
   "id": "dbcb66bc-67c6-428a-9e4f-2a0629fa33b5",
   "metadata": {},
   "source": [
    "#### D. [`re.finditer`](https://docs.python.org/3/library/re.html#re.finditer)\n",
    "\n",
    "Opis: Zwraca iterator zwracający wszystkie niepokrywające się dopasowania."
   ]
  },
  {
   "cell_type": "code",
   "execution_count": null,
   "id": "d4c30674-1980-49ce-ae6b-0ea794bb1392",
   "metadata": {},
   "outputs": [],
   "source": [
    "# Znajdowanie wszystkich dat w formacie YYYY-MM-DD w stringu (`re.findall`)\n",
    "\n",
    "log_data = '2023-01-01 entry, 2024-02-02 entry, 2025-03-03 entry'\n"
   ]
  },
  {
   "cell_type": "markdown",
   "id": "c84c14b3-f2c0-417d-ba56-f80327c458dc",
   "metadata": {},
   "source": [
    "Popatrzmy co zwróciła nam funkcja finditer."
   ]
  },
  {
   "cell_type": "code",
   "execution_count": null,
   "id": "72f24796-a733-4eff-8097-a94d0dd18e7b",
   "metadata": {},
   "outputs": [],
   "source": [
    "# co zawraca funkcja `re.findall` ?\n",
    "\n",
    "# iterator"
   ]
  },
  {
   "cell_type": "code",
   "execution_count": null,
   "id": "dd5b582d-7d8f-4e9b-948e-cf46636897ad",
   "metadata": {},
   "outputs": [],
   "source": [
    "# Jakiej klasy jest obiekt zwrócony przez funkcje `re.findall` ?\n"
   ]
  },
  {
   "cell_type": "markdown",
   "id": "9db123a2-bf6c-474e-b498-54ebafd17708",
   "metadata": {},
   "source": [
    "I tak jak to z iteratorami bywa.\n",
    "\n",
    "Możemy się po nich przeiterować lub zrzutować na listę."
   ]
  },
  {
   "cell_type": "code",
   "execution_count": null,
   "id": "5aeff354-bf6c-4698-a7cf-18b59bb1cc63",
   "metadata": {},
   "outputs": [],
   "source": [
    "# Iterujemy po zwróconym obiekcie\n"
   ]
  },
  {
   "cell_type": "markdown",
   "id": "7804625a-9aa2-4852-8b2c-5d498c95830c",
   "metadata": {},
   "source": [
    "Widzimy, że iterator zwraca nam kolejne obiekty doskonale już znanej nam klasy `re.Match`."
   ]
  },
  {
   "cell_type": "markdown",
   "id": "fa5bc0ed-353f-46ae-9b47-c929bd63ff0d",
   "metadata": {},
   "source": [
    "Zrzutujmy jeszcze na listę (przypomnienie: iterator po, którym już raz przeszliśmy jest wysycony. Trzeba utworzyć nowy)."
   ]
  },
  {
   "cell_type": "code",
   "execution_count": null,
   "id": "d5f4edb8-6a42-446b-b2ab-7f723593b380",
   "metadata": {},
   "outputs": [],
   "source": [
    "# rzutowanie iteratora na listę\n",
    "\n",
    "# tworzymy nowy iterator\n",
    "\n",
    "# rzutujemy stworzony iterator na listę i wyświetlamy wynik\n"
   ]
  },
  {
   "cell_type": "markdown",
   "id": "c6c9b730-a7a7-406b-851f-dc7e53039c07",
   "metadata": {},
   "source": [
    "Kompletny przykład"
   ]
  },
  {
   "cell_type": "code",
   "execution_count": null,
   "id": "a8689398-f028-463a-91bd-9e8ea38296c9",
   "metadata": {},
   "outputs": [],
   "source": [
    "# Całość\n",
    "log_data = '2023-01-01 entry, 2024-02-02 entry, 2025-03-03 entry'\n",
    "matches = re.finditer(r'\\d{4}-\\d{2}-\\d{2}', log_data)\n",
    "\n",
    "for match in matches:\n",
    "    print(f'Found date: {match.group()}')  # Output: Found date: 2023-01-01, Found date: 2024-02-02, Found date: 2025-03-03"
   ]
  },
  {
   "cell_type": "markdown",
   "id": "acd734fc-f174-4b7d-9b42-efc2eb4bd35a",
   "metadata": {},
   "source": [
    "#### E. [`re.split`](https://docs.python.org/3/library/re.html#re.split)\n",
    "\n",
    "Opis: Dzieli string na listę, używając wzorca jako separatora."
   ]
  },
  {
   "cell_type": "code",
   "execution_count": null,
   "id": "1a3112fa-699b-4fbf-aace-667d478f8397",
   "metadata": {},
   "outputs": [],
   "source": [
    "# Dzielenie stringu na części przy użyciu przecinków i spacji jako separatorów\n",
    "\n",
    "text = 'apple, banana, cherry, date'\n",
    "\n",
    "# Output: ['apple', 'banana', 'cherry', 'date']"
   ]
  },
  {
   "cell_type": "markdown",
   "id": "564abf96-d56a-424a-a0cf-b0c58eae3ef8",
   "metadata": {},
   "source": [
    "#### F. [`re.sub`](https://docs.python.org/3/library/re.html#re.sub)\n",
    "\n",
    "Opis: Zastępuje wszystkie wystąpienia wzorca stringiem zastępczym."
   ]
  },
  {
   "cell_type": "code",
   "execution_count": null,
   "id": "f208c5b0-0b54-4060-9640-1ab544ca049d",
   "metadata": {},
   "outputs": [],
   "source": [
    "# Zastępowanie cyfr w stringu znakiem '#'\n",
    "\n",
    "text = 'My phone number is 123-456-7890'\n",
    "\n",
    "# Output: My phone number is ###-###-####"
   ]
  },
  {
   "cell_type": "markdown",
   "id": "26715d92-222c-4c21-a684-320b12fb76ff",
   "metadata": {},
   "source": [
    "Alternatywnie, jeżeli planujemy wzorzec wykorzystywać w kilku miejscach, na kilka sposobów, to możemy stworzyć obiekt klasy `re.Pattern` za pomocą funkcji `re.compile`."
   ]
  },
  {
   "cell_type": "markdown",
   "id": "809d999a-91a9-4e7b-b1b5-17bee5a14c63",
   "metadata": {},
   "source": [
    "#### G. [`re.compile`](https://docs.python.org/3/library/re.html#re.compile)\n",
    "\n",
    "Opis: Kompiluje wzorzec do obiektu wyrażenia regularnego, aby używać go wielokrotnie."
   ]
  },
  {
   "cell_type": "code",
   "execution_count": null,
   "id": "11570bc5-a164-49c8-a867-1e79547b176f",
   "metadata": {},
   "outputs": [],
   "source": [
    "# Kompilowanie wzorca do wyszukiwania numerów telefonów\n",
    "\n",
    "# odpowiedniki w metodach obiektu klasy re.Pattern: findall, finditer, match, search, split, sub"
   ]
  },
  {
   "cell_type": "markdown",
   "id": "5e9afd40-c949-4f3f-8d8a-3a673d685c7f",
   "metadata": {},
   "source": [
    "Jak widzimy obiekty klasy `re.Pattern` potrafią wszystko to o czym do tej pory mówiliśmy. Posiadają takie metody jak `findall`, `finditer`, `match`, `search`, `split`, `sub`. Są to odpowiedniki omówionych powyżej funkcji."
   ]
  },
  {
   "cell_type": "markdown",
   "id": "dbaf19bb-dd5a-49ac-896c-b1904a93c707",
   "metadata": {},
   "source": [
    "Przykład użycia"
   ]
  },
  {
   "cell_type": "code",
   "execution_count": null,
   "id": "584650c8-51a4-4419-acec-8209894c0940",
   "metadata": {},
   "outputs": [],
   "source": [
    "# przykład\n",
    "text = 'Contact us at 123-456-7890 or 987-654-3210'\n",
    "\n",
    "# wywołanie metody search obiektu klasy re.Pattern\n",
    "\n",
    "# Output: Found: 123-456-7890\n",
    "\n",
    "\n",
    "# wywołanie metody findall obiektu klasy re.Pattern\n",
    "\n",
    "# Output: ['123-456-7890', '987-654-3210']"
   ]
  },
  {
   "cell_type": "markdown",
   "id": "53898993-af7d-4f18-b857-ce7c08e99b34",
   "metadata": {},
   "source": [
    "### 4. [Flagi](https://docs.python.org/3/library/re.html#flags)"
   ]
  },
  {
   "cell_type": "markdown",
   "id": "0dd2cc2a-8caa-42c1-8519-a644d198d639",
   "metadata": {},
   "source": [
    "Wszystkie omówione funkcje jako parametr opcjonalny mogą przyjmować [flagi](https://docs.python.org/3/library/re.html#flags). Flagi modyfikują zachowanie silnika wyrażeń regularnych.\n",
    "\n",
    "Do najpopularniejszych flag biblioteki `re` należą:\n",
    "\n",
    "| Flaga            | Opis                                                                                          | Przykład/Zastosowanie                                           |\n",
    "|------------------|-----------------------------------------------------------------------------------------------|-----------------------------------------------------------------|\n",
    "| `re.ASCII`       | Umożliwia dopasowanie wzorców zgodnie z zestawem znaków ASCII (również `re.A`).               | `re.compile(r'\\w+', re.ASCII)`                                  |\n",
    "| `re.IGNORECASE`  | Ignoruje wielkość liter przy dopasowaniu (również `re.I`).                                     | `re.compile(r'hello', re.IGNORECASE)`                           |\n",
    "| `re.MULTILINE`   | Traktuje początek i koniec każdej linii jako początek i koniec ciągu (również `re.M`).        | `re.compile(r'^start', re.MULTILINE)`                           |\n",
    "| `re.DOTALL`      | Umożliwia dopasowanie znaku nowej linii przez kropkę `.` (również `re.S`).                    | `re.compile(r'.*', re.DOTALL)`                                  |\n",
    "| `re.VERBOSE`     | Pozwala na bardziej przejrzyste wzorce przez ignorowanie białych znaków i komentarzy (również `re.X`). | `re.compile(r' \\d+  # liczby \\s* ', re.VERBOSE)`                  |\n",
    "| `re.UNICODE`     | Umożliwia dopasowanie wzorców zgodnie ze standardem Unicode (również `re.U`).                 | `re.compile(r'\\w+', re.UNICODE)`                                |"
   ]
  }
 ],
 "metadata": {
  "kernelspec": {
   "display_name": "Python 3 (ipykernel)",
   "language": "python",
   "name": "python3"
  },
  "language_info": {
   "codemirror_mode": {
    "name": "ipython",
    "version": 3
   },
   "file_extension": ".py",
   "mimetype": "text/x-python",
   "name": "python",
   "nbconvert_exporter": "python",
   "pygments_lexer": "ipython3",
   "version": "3.11.1"
  }
 },
 "nbformat": 4,
 "nbformat_minor": 5
}
