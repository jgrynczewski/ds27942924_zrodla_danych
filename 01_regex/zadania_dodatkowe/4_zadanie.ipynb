{
 "cells": [
  {
   "cell_type": "markdown",
   "id": "3ea7c944-491a-40f7-a48f-d9e795db5da1",
   "metadata": {},
   "source": [
    "### Ćwiczenie praktyczne V"
   ]
  },
  {
   "cell_type": "markdown",
   "id": "7a9fe1ad-ddf8-4091-a423-03290217453f",
   "metadata": {},
   "source": [
    "Na podstawie przykładu wzorcowego wykonaj cztery pozostałe podzadania."
   ]
  },
  {
   "cell_type": "markdown",
   "id": "0dd86c35-cd81-4b27-8394-c95ebebae663",
   "metadata": {},
   "source": [
    "A. Sprawdź, czy podany ciąg składa się wyłącznie z cyfr."
   ]
  },
  {
   "cell_type": "code",
   "execution_count": null,
   "id": "4a88c9d8-a3ff-48ed-b252-f4139f363f4f",
   "metadata": {},
   "outputs": [],
   "source": [
    "# Przykład wzorcowy\n",
    "\n",
    "import re\n",
    "\n",
    "def has_only_numbers(text):\n",
    "    pattern = re.compile(r'^\\d+$')\n",
    "    return pattern.match(text) is not None\n",
    "\n",
    "print(has_only_numbers(\"123456\"))  # True\n",
    "print(has_only_numbers(\"abc123\"))  # False"
   ]
  },
  {
   "cell_type": "markdown",
   "id": "37d4d2ac-309a-47ca-a5e8-eb6d73bb3494",
   "metadata": {},
   "source": [
    "B. Sprawdź, czy podany ciąg zawiera przynajmniej jedną dużą literę."
   ]
  },
  {
   "cell_type": "code",
   "execution_count": null,
   "id": "c780217b-b95c-470b-b4a0-92aae0612a1c",
   "metadata": {},
   "outputs": [],
   "source": []
  },
  {
   "cell_type": "markdown",
   "id": "912c49a6-66f9-4288-837b-a0e8865e62fd",
   "metadata": {},
   "source": [
    "C. Sprawdź, czy podany ciąg zawiera przynajmniej jedną małą literę."
   ]
  },
  {
   "cell_type": "code",
   "execution_count": null,
   "id": "31294e6e-6549-452d-85b8-a110e26065a1",
   "metadata": {},
   "outputs": [],
   "source": []
  },
  {
   "cell_type": "markdown",
   "id": "7538e27e-4e35-497a-b6b8-f330422d58c3",
   "metadata": {},
   "source": [
    "D. Sprawdź, czy podany ciąg zawiera przynajmniej jedną cyfrę."
   ]
  },
  {
   "cell_type": "code",
   "execution_count": null,
   "id": "c45e327c-2565-4aa3-adc5-28e23ffab167",
   "metadata": {},
   "outputs": [],
   "source": []
  },
  {
   "cell_type": "markdown",
   "id": "a4d74482-4a92-48bc-95ed-b3d6c379366b",
   "metadata": {},
   "source": [
    "E. Sprawdź, czy podany ciąg zawiera tylko litery (zarówno małe, jak i duże) i cyfry."
   ]
  },
  {
   "cell_type": "code",
   "execution_count": null,
   "id": "a1717071-b37b-4e90-bc8b-fcc5b731feba",
   "metadata": {},
   "outputs": [],
   "source": []
  }
 ],
 "metadata": {
  "kernelspec": {
   "display_name": "Python 3 (ipykernel)",
   "language": "python",
   "name": "python3"
  },
  "language_info": {
   "codemirror_mode": {
    "name": "ipython",
    "version": 3
   },
   "file_extension": ".py",
   "mimetype": "text/x-python",
   "name": "python",
   "nbconvert_exporter": "python",
   "pygments_lexer": "ipython3",
   "version": "3.11.1"
  }
 },
 "nbformat": 4,
 "nbformat_minor": 5
}
