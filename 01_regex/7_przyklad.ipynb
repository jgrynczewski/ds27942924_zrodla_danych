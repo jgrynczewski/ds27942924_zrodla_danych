{
 "cells": [
  {
   "cell_type": "markdown",
   "id": "52a9aeed-8955-4ae8-a660-0d1b703c14f6",
   "metadata": {},
   "source": [
    "### Przykład V: Analiza ocen z testów\n",
    "\n",
    "#### Opis:\n",
    "\n",
    "Plik `oceny.csv` zawiera dane dotyczące ocen z testów. Twoim zadaniem jest napisać skrypt w Pythonie, który otworzy ten plik, odczyta jego zawartość i przeprowadzi prostą analizę za pomocą wyrażeń regularnych:\n",
    "\n",
    "1. Wyciągnij wszystkie oceny\n",
    "2. Znajdź średnią ocen\n",
    "3. Znajdź wszystkie oceny powyżej 80"
   ]
  },
  {
   "cell_type": "code",
   "execution_count": 5,
   "id": "cc1fb9e9-cec8-40db-8dc4-d2473462961a",
   "metadata": {},
   "outputs": [
    {
     "name": "stdout",
     "output_type": "stream",
     "text": [
      "Numer,Imię,Nazwisko,Ocena\n",
      "1,Jan,Kowalski,90\n",
      "2,Anna,Nowak,85\n",
      "3,Marcin,Wójcik,75\n",
      "4,Monika,Kowalczyk,95\n",
      "5,Piotr,Nowicki,8088\n",
      "6,Katarzyna,Woźniak,70\n"
     ]
    }
   ],
   "source": [
    "with open('oceny.csv', encoding='utf-8') as f:\n",
    "    content = f.read()\n",
    "\n",
    "\n",
    "print(content)"
   ]
  },
  {
   "cell_type": "code",
   "execution_count": 6,
   "id": "c2af3de3-b247-4757-85d6-6a105bb1c46e",
   "metadata": {},
   "outputs": [],
   "source": [
    "import re"
   ]
  },
  {
   "cell_type": "markdown",
   "id": "d034fd39-3b03-4523-bab4-4da21afa3c34",
   "metadata": {},
   "source": [
    "#### 1. Wyciągnięcie wszystkich ocen"
   ]
  },
  {
   "cell_type": "code",
   "execution_count": 14,
   "id": "5783f5a7-a3af-427c-9759-bcece657f9fb",
   "metadata": {},
   "outputs": [
    {
     "name": "stdout",
     "output_type": "stream",
     "text": [
      "['90', '85', '75', '95', '70']\n"
     ]
    }
   ],
   "source": [
    "pattern = r'\\b\\d{2}\\b'\n",
    "\n",
    "grades = re.findall(pattern, content)\n",
    "print(grades)"
   ]
  },
  {
   "cell_type": "markdown",
   "id": "a7ed12d3-be60-4681-8310-74ddca25ffa8",
   "metadata": {},
   "source": [
    "#### 2. Znalezienie średniej ocen"
   ]
  },
  {
   "cell_type": "code",
   "execution_count": 15,
   "id": "5b6f390a-cfb2-469b-9e52-9e4f2130ff1d",
   "metadata": {},
   "outputs": [
    {
     "data": {
      "text/plain": [
       "83.0"
      ]
     },
     "execution_count": 15,
     "metadata": {},
     "output_type": "execute_result"
    }
   ],
   "source": [
    "marks = [int(grade) for grade in grades]\n",
    "\n",
    "avg_mark = sum(marks) / len(marks)\n",
    "avg_mark"
   ]
  },
  {
   "cell_type": "markdown",
   "id": "c309eba8-650d-4c00-973e-50841862c09e",
   "metadata": {},
   "source": [
    "#### 3: Znalezienie wszystkich ocen powyżej 80"
   ]
  },
  {
   "cell_type": "code",
   "execution_count": 17,
   "id": "44f0bce9-a01e-4f1f-adad-3b907c081d47",
   "metadata": {},
   "outputs": [
    {
     "data": {
      "text/plain": [
       "[90, 85, 95]"
      ]
     },
     "execution_count": 17,
     "metadata": {},
     "output_type": "execute_result"
    }
   ],
   "source": [
    "marks_above_80 = [mark for mark in marks if mark > 80]\n",
    "marks_above_80"
   ]
  }
 ],
 "metadata": {
  "kernelspec": {
   "display_name": "Python 3 (ipykernel)",
   "language": "python",
   "name": "python3"
  },
  "language_info": {
   "codemirror_mode": {
    "name": "ipython",
    "version": 3
   },
   "file_extension": ".py",
   "mimetype": "text/x-python",
   "name": "python",
   "nbconvert_exporter": "python",
   "pygments_lexer": "ipython3",
   "version": "3.11.1"
  }
 },
 "nbformat": 4,
 "nbformat_minor": 5
}
