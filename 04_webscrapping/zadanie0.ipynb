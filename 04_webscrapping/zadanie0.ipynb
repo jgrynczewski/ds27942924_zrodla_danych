{
 "cells": [
  {
   "cell_type": "markdown",
   "id": "07b82675-832d-4eb4-a785-6130b02e2393",
   "metadata": {},
   "source": [
    "### [BBC News](https://www.bbc.com/news)"
   ]
  },
  {
   "cell_type": "markdown",
   "id": "070dc18d-2cea-4b7d-b089-523e731536d1",
   "metadata": {},
   "source": [
    "Napisz program, który pobiera tytuły najnowszych artykułów z pierwszej strony BBC News i wyświetla je na ekranie."
   ]
  },
  {
   "cell_type": "code",
   "execution_count": 17,
   "id": "89ff39b6-d70e-42b1-ba40-ee10d266afa1",
   "metadata": {},
   "outputs": [
    {
     "name": "stdout",
     "output_type": "stream",
     "text": [
      "Tytuly najnowszych artykulów z BBC News: \n",
      "  - Gaza health ministry says Israeli hostage rescue killed 274 Palestinians\n",
      "  - How Israel's hostage rescue in Gaza unfolded\n",
      "  - 'Love isn't just for young people': D-Day veteran, 100, weds bride, 96\n",
      "  - 'Spy mania': Why is Russia accusing its own physicists of treason?\n",
      "  - South Korea to resume loudspeaker broadcasts over border in balloon row\n",
      "  - How Israel's hostage rescue in Gaza unfolded\n",
      "  - Body found in search for presenter Michael Mosley\n",
      "  - Dead in 6 hours: How Nigerian sextortion scammers targeted my son\n",
      "  - Millions of Europeans vote in EU elections\n",
      "  - 'Love isn't just for young people': D-Day veteran, 100, weds bride, 96\n",
      "  - Danish PM ‘shaken but fine’ after street attack\n",
      "  - Will coalition turn domineering Modi into a humbler leader?\n",
      "  - Watch: Lava engulfs road in Iceland\n",
      "  - Three swimmers hurt in shark attacks in Florida \n",
      "  - Adults and teens turn to 'dumbphones'  to cut screen time\n",
      "  - Who owns the Moon? A new space race means it could be up for grabs\n",
      "  - Crowd-pleasers: The art of choosing the perfect setlist\n",
      "  - The far right could make big gains in EU elections. What would that mean?\n",
      "  - I married the love of my life in a Ukrainian bunker - then he was killed\n",
      "  - Beyoncé tickets, Bali trips and book deals: Here's how Supreme Court justices earned money this year\n",
      "  - Crowd-pleasers: The art of choosing the perfect setlist\n",
      "  - The new language changing the dating scene\n",
      "  - Price hikes and boycotts: Is trouble brewing at Starbucks?\n",
      "  - The far right could make big gains in EU elections. What would that mean?\n",
      "  - BBC reporter shows location where a body was found\n",
      "  - 'Love isn't just for young people': D-Day veteran, 100, weds bride, 96\n",
      "  - New CCTV appears to show Michael Mosley walking towards rocky hills\n",
      "  - Watch: Lava engulfs road in Iceland\n",
      "  - The route Michael Mosley is thought to have taken\n",
      "  - Dozens killed by suspected DR Congo rebels in spate of attacks\n",
      "  - Giorgia Meloni gets personal as Italy votes in EU poll\n",
      "  - Why Kenya's president wants people to love the taxman\n",
      "  - 'I don't believe it!' - Race walker loses medal after celebrating too early\n",
      "  - UN confirms 11 staff detained by Houthis in Yemen\n",
      "  - Giorgia Meloni gets personal as Italy votes in EU poll\n",
      "  - Watch as rescued Israeli hostages are reunited with families\n",
      "  - Confident Putin warns Europe is ‘defenceless’\n",
      "  - Why Kenya's president wants people to love the taxman\n",
      "  - Body found in search for presenter Michael Mosley\n",
      "  - Gaza health ministry says Israeli hostage rescue killed 274 Palestinians\n",
      "  - Dead in 6 hours: How Nigerian sextortion scammers targeted my son\n",
      "  - How Israel's hostage rescue in Gaza unfolded\n",
      "  - 'Spy mania': Why is Russia accusing its own physicists of treason?\n",
      "  - The new language changing the dating scene\n",
      "  - Millions voting on final day of EU elections as right seeks surge\n",
      "  - Confident Putin warns Europe is ‘defenceless’\n",
      "  - Price hikes and boycotts: Is trouble brewing at Starbucks?\n",
      "  - Three swimmers hurt in shark attacks in Florida \n",
      "  - French Open: Build-up to Alcaraz v Zverev in men's final\n",
      "  - The 'gravest crisis' after 1989's India v Pakistan in New York\n",
      "  - What happened to the world-class German strikers?\n",
      "  - Fly-half Ford ruled out of England summer tour\n",
      "  - We're not putting everything on Bellingham - Southgate\n",
      "  - The 'gravest crisis' after 1989's India v Pakistan in New York\n",
      "  - Mott & Buttler reach point of no return with England\n",
      "  - More to come from Mercedes - pole-sitter Russell\n",
      "  - What happened to the world-class German strikers?\n"
     ]
    }
   ],
   "source": [
    "import requests\n",
    "from bs4 import BeautifulSoup\n",
    "\n",
    "url = 'https://www.bbc.com/news'\n",
    "\n",
    "response = requests.get(url)\n",
    "content = response.content\n",
    "\n",
    "soup = BeautifulSoup(content, 'html.parser')\n",
    "\n",
    "res = soup.find_all(attrs={'data-testid': 'card-headline'})\n",
    "\n",
    "print(\"Tytuly najnowszych artykulów z BBC News: \")\n",
    "for item in res:\n",
    "    print(f\"  - {item.text}\")"
   ]
  }
 ],
 "metadata": {
  "kernelspec": {
   "display_name": "Python 3 (ipykernel)",
   "language": "python",
   "name": "python3"
  },
  "language_info": {
   "codemirror_mode": {
    "name": "ipython",
    "version": 3
   },
   "file_extension": ".py",
   "mimetype": "text/x-python",
   "name": "python",
   "nbconvert_exporter": "python",
   "pygments_lexer": "ipython3",
   "version": "3.11.1"
  }
 },
 "nbformat": 4,
 "nbformat_minor": 5
}
