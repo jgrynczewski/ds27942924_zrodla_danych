{
 "cells": [
  {
   "cell_type": "markdown",
   "id": "94012881-751a-4bc7-8f73-86c71a54b901",
   "metadata": {},
   "source": [
    "### [Exchangerates](https://www.exchangerates.org.uk)"
   ]
  },
  {
   "cell_type": "markdown",
   "id": "89e2b092-2475-4872-8873-8a093a3cfe75",
   "metadata": {},
   "source": [
    "Napisz program, który pobiera informacje o aktualnych kursach walut ze strony [Exchange Rates](https://www.exchangerates.org.uk/) i zapisuje je w formie DataFrame. DataFrame powinien zawierać kolumny: waluta, kurs do USD."
   ]
  },
  {
   "cell_type": "code",
   "execution_count": null,
   "id": "c639167c-488b-47f0-9dff-4df038fea31a",
   "metadata": {},
   "outputs": [],
   "source": []
  }
 ],
 "metadata": {
  "kernelspec": {
   "display_name": "Python 3 (ipykernel)",
   "language": "python",
   "name": "python3"
  },
  "language_info": {
   "codemirror_mode": {
    "name": "ipython",
    "version": 3
   },
   "file_extension": ".py",
   "mimetype": "text/x-python",
   "name": "python",
   "nbconvert_exporter": "python",
   "pygments_lexer": "ipython3",
   "version": "3.11.1"
  }
 },
 "nbformat": 4,
 "nbformat_minor": 5
}
