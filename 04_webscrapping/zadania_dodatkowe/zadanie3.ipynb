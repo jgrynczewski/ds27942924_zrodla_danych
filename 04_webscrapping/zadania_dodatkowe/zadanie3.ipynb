{
 "cells": [
  {
   "cell_type": "markdown",
   "id": "8fd0ed33-bdf6-4fe5-b0dc-9650feb3d6bf",
   "metadata": {},
   "source": [
    "### Webscraping i JSON\n",
    "\n",
    "Twoim zadaniem jest napisanie skryptu w Pythonie, który pobierze dane z wybranej strony internetowej, zapisze je w formacie JSON, a następnie odczyta i wyświetli te dane. Wykorzystaj stronę internetową z aktualnymi kursami walut, np. https://www.x-rates.com/table/?from=USD&amount=1.\n",
    "\n",
    "* Krok 1: Webscraping \\\n",
    "Pobierz stronę z kursami walut (https://www.x-rates.com/table/?from=USD&amount=1).\n",
    "Wyodrębnij z niej kursy walut względem dolara amerykańskiego (USD).\n",
    "\n",
    "* Krok 2: Zapis do JSON \\\n",
    "Zapisz wyodrębnione dane do pliku JSON, np. currencies.json.\n",
    "\n",
    "* Krok 3: Odczyt i wyświetlenie danych \\\n",
    "Odczytaj dane z pliku JSON i wyświetl je na ekranie."
   ]
  },
  {
   "cell_type": "code",
   "execution_count": null,
   "id": "fc815d2a-b098-4d23-b970-4d306e01be39",
   "metadata": {},
   "outputs": [],
   "source": []
  }
 ],
 "metadata": {
  "kernelspec": {
   "display_name": "Python 3 (ipykernel)",
   "language": "python",
   "name": "python3"
  },
  "language_info": {
   "codemirror_mode": {
    "name": "ipython",
    "version": 3
   },
   "file_extension": ".py",
   "mimetype": "text/x-python",
   "name": "python",
   "nbconvert_exporter": "python",
   "pygments_lexer": "ipython3",
   "version": "3.11.1"
  }
 },
 "nbformat": 4,
 "nbformat_minor": 5
}
