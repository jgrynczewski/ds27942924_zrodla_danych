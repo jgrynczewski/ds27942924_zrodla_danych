{
 "cells": [
  {
   "cell_type": "markdown",
   "id": "94012881-751a-4bc7-8f73-86c71a54b901",
   "metadata": {},
   "source": [
    "### [Exchangerates](https://www.exchangerates.org.uk)"
   ]
  },
  {
   "cell_type": "markdown",
   "id": "89e2b092-2475-4872-8873-8a093a3cfe75",
   "metadata": {},
   "source": [
    "Napisz program, który pobiera informacje o aktualnych kursach walut ze strony [Exchange Rates](https://www.exchangerates.org.uk/) i zapisuje je w formie DataFrame. DataFrame powinien zawierać kolumny: waluta, kurs do USD."
   ]
  },
  {
   "cell_type": "code",
   "execution_count": 1,
   "id": "c639167c-488b-47f0-9dff-4df038fea31a",
   "metadata": {},
   "outputs": [
    {
     "name": "stdout",
     "output_type": "stream",
     "text": [
      "\n",
      "Aktualne kursy walut:\n",
      "  Currency Exchange Rate to USD\n",
      "0  GBP USD               1.2726\n",
      "1  GBP NZD               2.0823\n",
      "2  GBP AUD               1.9314\n",
      "3  GBP CAD               1.7527\n",
      "4  GBP JPY               199.41\n",
      "5  GBP ZAR               24.074\n",
      "6  GBP AED               4.6743\n",
      "7  GBP INR               106.29\n",
      "8  GBP TRY               41.209\n",
      "9  GBP CHF                1.143\n"
     ]
    }
   ],
   "source": [
    "import requests\n",
    "from bs4 import BeautifulSoup\n",
    "import pandas as pd\n",
    "\n",
    "url = \"https://www.exchangerates.org.uk/\"\n",
    "headers = {\n",
    "    \"User-Agent\": \"Mozilla/5.0 (Windows NT 10.0; Win64; x64) AppleWebKit/537.36 (KHTML, like Gecko) Chrome/91.0.4472.124 Safari/537.36\"\n",
    "}\n",
    "response = requests.get(url, headers=headers)\n",
    "soup = BeautifulSoup(response.content, 'html.parser')\n",
    "\n",
    "# Znalezienie tabeli z kursami walut\n",
    "table = soup.find('table', id='currenciesHP')\n",
    "rows = table.find_all('tr')\n",
    "\n",
    "data = []\n",
    "for row in rows[1:]:  # Pomijamy pierwszy wiersz, który zawiera nagłówki tabeli\n",
    "    cols = row.find_all('td')\n",
    "    currency = cols[1].text.strip()\n",
    "    exchange_rate = cols[3].text.strip()\n",
    "    data.append({\"Currency\": currency, \"Exchange Rate to USD\": exchange_rate})\n",
    "    \n",
    "df = pd.DataFrame(data)\n",
    "print(\"\\nAktualne kursy walut:\")\n",
    "print(df)"
   ]
  }
 ],
 "metadata": {
  "kernelspec": {
   "display_name": "Python 3 (ipykernel)",
   "language": "python",
   "name": "python3"
  },
  "language_info": {
   "codemirror_mode": {
    "name": "ipython",
    "version": 3
   },
   "file_extension": ".py",
   "mimetype": "text/x-python",
   "name": "python",
   "nbconvert_exporter": "python",
   "pygments_lexer": "ipython3",
   "version": "3.11.1"
  }
 },
 "nbformat": 4,
 "nbformat_minor": 5
}
