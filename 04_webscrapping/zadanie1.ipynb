{
 "cells": [
  {
   "cell_type": "markdown",
   "id": "7726bafe-8c3a-40ac-90fb-aa34f7ac0787",
   "metadata": {},
   "source": [
    "### [NBP](https://www.nbp.pl/)"
   ]
  },
  {
   "cell_type": "markdown",
   "id": "c92475e3-9b58-422b-9ca5-e83da2c6f873",
   "metadata": {},
   "source": [
    "#### To zadanie nie zadziała, bo strona ma zabezpieczenie. Żeby je obejść patrz zadanie2.ipynb.\n",
    "\n",
    "To zadanie ma na celu przetestowanie, czy wszystkie potrzebne biblioteki i sterowniki są zainstalowane poprawnie. \n",
    "Jeśli wszystko działa zgodnie z planem, na końcu zobaczysz kursy pięciu walut odczytane ze strony Narodowego Banku Polskiego."
   ]
  },
  {
   "cell_type": "code",
   "execution_count": 3,
   "id": "04a020bc-a276-45d0-9ff7-765fc1f115b4",
   "metadata": {},
   "outputs": [
    {
     "name": "stdout",
     "output_type": "stream",
     "text": [
      "<html style=\"height:100%\"><head><META NAME=\"ROBOTS\" CONTENT=\"NOINDEX, NOFOLLOW\"><meta name=\"format-detection\" content=\"telephone=no\"><meta name=\"viewport\" content=\"initial-scale=1.0\"><meta http-equiv=\"X-UA-Compatible\" content=\"IE=edge,chrome=1\"><script type=\"text/javascript\" src=\"/_Incapsula_Resource?SWJIYLWA=719d34d31c8e3a6e6fffd425f7e032f3\"></script></head><body style=\"margin:0px;height:100%\"><iframe id=\"main-iframe\" src=\"/_Incapsula_Resource?SWUDNSAI=31&xinfo=47-33374756-0%202NNN%20RT%281717936142938%2027%29%20q%280%20-1%20-1%201%29%20r%280%20-1%29%20B12%284%2c315%2c0%29&incident_id=1689000061976971330-187072811131011503&edet=12&cinfo=04000000&rpinfo=0&cts=fb2MN6H%2bD0H1JH4ot0s019yvGrH07bNX4yNjd97vbKFjJy%2bb1JhKBqPrNHuGf89v&mth=GET\" frameborder=0 width=\"100%\" height=\"100%\" marginheight=\"0px\" marginwidth=\"0px\">Request unsuccessful. Incapsula incident ID: 1689000061976971330-187072811131011503</iframe></body></html>\n"
     ]
    }
   ],
   "source": [
    "import requests\n",
    "\n",
    "url = 'https://nbp.pl/'\n",
    "response = requests.get(url)\n",
    "\n",
    "print(response.text)"
   ]
  }
 ],
 "metadata": {
  "kernelspec": {
   "display_name": "Python 3 (ipykernel)",
   "language": "python",
   "name": "python3"
  },
  "language_info": {
   "codemirror_mode": {
    "name": "ipython",
    "version": 3
   },
   "file_extension": ".py",
   "mimetype": "text/x-python",
   "name": "python",
   "nbconvert_exporter": "python",
   "pygments_lexer": "ipython3",
   "version": "3.11.1"
  }
 },
 "nbformat": 4,
 "nbformat_minor": 5
}
