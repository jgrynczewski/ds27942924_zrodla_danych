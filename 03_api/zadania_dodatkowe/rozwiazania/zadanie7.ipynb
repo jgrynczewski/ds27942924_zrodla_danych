{
 "cells": [
  {
   "cell_type": "markdown",
   "id": "23d0d656-21a1-44f8-921c-1bdea0b1c638",
   "metadata": {},
   "source": [
    "### [API PokeAPI](https://pokeapi.co/)\n",
    "\n",
    "Napisz program, który korzysta z API PokeAPI do pobrania danych o losowym pokemonie, w tym jego nazwy, typów i obrazka. Wyświetl te informacje na ekranie."
   ]
  },
  {
   "cell_type": "code",
   "execution_count": 1,
   "id": "d89a1d29-b3db-4c60-a45c-3cfca493a04a",
   "metadata": {},
   "outputs": [
    {
     "name": "stdout",
     "output_type": "stream",
     "text": [
      "Witaj w programie Pokemon Random Info & Image Generator!\n"
     ]
    },
    {
     "name": "stdin",
     "output_type": "stream",
     "text": [
      "Naciśnij Enter, aby wyświetlić informacje o losowym Pokemonie... \n"
     ]
    },
    {
     "name": "stdout",
     "output_type": "stream",
     "text": [
      "Nazwa Pokemona: Gloom\n",
      "Typ(y): Grass, poison\n",
      "Obrazek Pokemona:\n"
     ]
    },
    {
     "data": {
      "text/plain": [
       "<matplotlib.image.AxesImage at 0x2e04f5f3910>"
      ]
     },
     "execution_count": 1,
     "metadata": {},
     "output_type": "execute_result"
    },
    {
     "data": {
      "image/png": "[encoded data removed]",
      "text/plain": [
       "<Figure size 640x480 with 1 Axes>"
      ]
     },
     "metadata": {},
     "output_type": "display_data"
    }
   ],
   "source": [
    "import requests\n",
    "import random\n",
    "from PIL import Image\n",
    "import matplotlib.pyplot as plt\n",
    "from io import BytesIO\n",
    "\n",
    "\n",
    "print(\"Witaj w programie Pokemon Random Info & Image Generator!\")\n",
    "input(\"Naciśnij Enter, aby wyświetlić informacje o losowym Pokemonie...\")\n",
    "\n",
    "pokemon_id = random.randint(1, 898)  # W sumie 898 różnych Pokemonów w Pokedexie\n",
    "url = f\"https://pokeapi.co/api/v2/pokemon/{pokemon_id}\"\n",
    "response = requests.get(url)\n",
    "data = response.json()\n",
    "\n",
    "\n",
    "name = data['name']\n",
    "types = [type_info['type']['name'] for type_info in data['types']]\n",
    "image_url = data['sprites']['front_default']\n",
    "\n",
    "print(f\"Nazwa Pokemona: {name.capitalize()}\")\n",
    "print(\"Typ(y):\", \", \".join(types).capitalize())\n",
    "print(\"Obrazek Pokemona:\")\n",
    "response = requests.get(image_url)\n",
    "image = Image.open(BytesIO(response.content))\n",
    "plt.imshow(image)"
   ]
  }
 ],
 "metadata": {
  "kernelspec": {
   "display_name": "Python 3 (ipykernel)",
   "language": "python",
   "name": "python3"
  },
  "language_info": {
   "codemirror_mode": {
    "name": "ipython",
    "version": 3
   },
   "file_extension": ".py",
   "mimetype": "text/x-python",
   "name": "python",
   "nbconvert_exporter": "python",
   "pygments_lexer": "ipython3",
   "version": "3.11.1"
  }
 },
 "nbformat": 4,
 "nbformat_minor": 5
}
