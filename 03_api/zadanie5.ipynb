{
 "cells": [
  {
   "cell_type": "markdown",
   "id": "4482b432-e50f-40ea-8190-71b0029af2ad",
   "metadata": {},
   "source": [
    "### [Yes Or No API](https://yesno.wtf)\n",
    "\n",
    "Napisz program, który wykorzystuje `Yes Or No API` do pobrania losowego obrazka w formacie gif a następnie wyświetla pobrany plik w Pythonie."
   ]
  },
  {
   "cell_type": "code",
   "execution_count": 7,
   "id": "2cde5b9c-625e-4e4e-824d-5800287286fe",
   "metadata": {},
   "outputs": [
    {
     "name": "stdout",
     "output_type": "stream",
     "text": [
      "Witaj w programie YesNo Question & Answer Generator!\n"
     ]
    },
    {
     "name": "stdin",
     "output_type": "stream",
     "text": [
      "Wypowiedz pytanie i naciśnij Enter... \n"
     ]
    },
    {
     "name": "stdout",
     "output_type": "stream",
     "text": [
      "Odpowiedź: No\n"
     ]
    },
    {
     "data": {
      "text/html": [
       "<img src=\"https://yesno.wtf/assets/no/22-8806dbccb1edf544723b7f095ff722e8.gif\"/>"
      ],
      "text/plain": [
       "<IPython.core.display.Image object>"
      ]
     },
     "metadata": {},
     "output_type": "display_data"
    }
   ],
   "source": [
    "import requests\n",
    "from IPython.display import Image as IPythonImage, display\n",
    "\n",
    "print(\"Witaj w programie YesNo Question & Answer Generator!\")\n",
    "input(\"Wypowiedz pytanie i naciśnij Enter...\")\n",
    "\n",
    "url = \"https://yesno.wtf/api/\"\n",
    "response = requests.get(url)\n",
    "data = response.json()\n",
    "# print(data)\n",
    "\n",
    "answer = data['answer'].capitalize()\n",
    "image_url = data['image']\n",
    "\n",
    "print(f\"Odpowiedź: {answer}\")\n",
    "display(IPythonImage(url=image_url))"
   ]
  }
 ],
 "metadata": {
  "kernelspec": {
   "display_name": "Python 3 (ipykernel)",
   "language": "python",
   "name": "python3"
  },
  "language_info": {
   "codemirror_mode": {
    "name": "ipython",
    "version": 3
   },
   "file_extension": ".py",
   "mimetype": "text/x-python",
   "name": "python",
   "nbconvert_exporter": "python",
   "pygments_lexer": "ipython3",
   "version": "3.11.1"
  }
 },
 "nbformat": 4,
 "nbformat_minor": 5
}
