{
 "cells": [
  {
   "cell_type": "markdown",
   "id": "2920b910-1712-4429-a64f-cc22f9c7b44c",
   "metadata": {},
   "source": [
    "### [API Narodowego Banku Polskiego](https://api.nbp.pl/)\n",
    "\n",
    "Napisz program w Pythonie, który pobierze dane o kursach wymiany walut z API Narodowego Banku Polskiego pod adresem http://api.nbp.pl/api/exchangerates/tables/a/. Program powinien wyświetlić listę walut oraz ich kursy w stosunku do złotego polskiego (PLN)."
   ]
  },
  {
   "cell_type": "code",
   "execution_count": 16,
   "id": "60bb5e40-5a0f-4c49-860c-b6effd5df57a",
   "metadata": {},
   "outputs": [
    {
     "data": {
      "text/plain": [
       "[{'table': 'A',\n",
       "  'no': '110/A/NBP/2024',\n",
       "  'effectiveDate': '2024-06-07',\n",
       "  'rates': [{'currency': 'bat (Tajlandia)', 'code': 'THB', 'mid': 0.108},\n",
       "   {'currency': 'dolar amerykański', 'code': 'USD', 'mid': 3.9389},\n",
       "   {'currency': 'dolar australijski', 'code': 'AUD', 'mid': 2.6256},\n",
       "   {'currency': 'dolar Hongkongu', 'code': 'HKD', 'mid': 0.5044},\n",
       "   {'currency': 'dolar kanadyjski', 'code': 'CAD', 'mid': 2.8789},\n",
       "   {'currency': 'dolar nowozelandzki', 'code': 'NZD', 'mid': 2.4391},\n",
       "   {'currency': 'dolar singapurski', 'code': 'SGD', 'mid': 2.9292},\n",
       "   {'currency': 'euro', 'code': 'EUR', 'mid': 4.2891},\n",
       "   {'currency': 'forint (Węgry)', 'code': 'HUF', 'mid': 0.011006},\n",
       "   {'currency': 'frank szwajcarski', 'code': 'CHF', 'mid': 4.4284},\n",
       "   {'currency': 'funt szterling', 'code': 'GBP', 'mid': 5.0371},\n",
       "   {'currency': 'hrywna (Ukraina)', 'code': 'UAH', 'mid': 0.0978},\n",
       "   {'currency': 'jen (Japonia)', 'code': 'JPY', 'mid': 0.025352},\n",
       "   {'currency': 'korona czeska', 'code': 'CZK', 'mid': 0.1745},\n",
       "   {'currency': 'korona duńska', 'code': 'DKK', 'mid': 0.5749},\n",
       "   {'currency': 'korona islandzka', 'code': 'ISK', 'mid': 0.028651},\n",
       "   {'currency': 'korona norweska', 'code': 'NOK', 'mid': 0.3728},\n",
       "   {'currency': 'korona szwedzka', 'code': 'SEK', 'mid': 0.3799},\n",
       "   {'currency': 'lej rumuński', 'code': 'RON', 'mid': 0.862},\n",
       "   {'currency': 'lew (Bułgaria)', 'code': 'BGN', 'mid': 2.193},\n",
       "   {'currency': 'lira turecka', 'code': 'TRY', 'mid': 0.122},\n",
       "   {'currency': 'nowy izraelski szekel', 'code': 'ILS', 'mid': 1.0568},\n",
       "   {'currency': 'peso chilijskie', 'code': 'CLP', 'mid': 0.004338},\n",
       "   {'currency': 'peso filipińskie', 'code': 'PHP', 'mid': 0.0673},\n",
       "   {'currency': 'peso meksykańskie', 'code': 'MXN', 'mid': 0.22},\n",
       "   {'currency': 'rand (Republika Południowej Afryki)',\n",
       "    'code': 'ZAR',\n",
       "    'mid': 0.2092},\n",
       "   {'currency': 'real (Brazylia)', 'code': 'BRL', 'mid': 0.749},\n",
       "   {'currency': 'ringgit (Malezja)', 'code': 'MYR', 'mid': 0.8394},\n",
       "   {'currency': 'rupia indonezyjska', 'code': 'IDR', 'mid': 0.00024323},\n",
       "   {'currency': 'rupia indyjska', 'code': 'INR', 'mid': 0.047223},\n",
       "   {'currency': 'won południowokoreański', 'code': 'KRW', 'mid': 0.002882},\n",
       "   {'currency': 'yuan renminbi (Chiny)', 'code': 'CNY', 'mid': 0.5438},\n",
       "   {'currency': 'SDR (MFW)', 'code': 'XDR', 'mid': 5.2334}]}]"
      ]
     },
     "execution_count": 16,
     "metadata": {},
     "output_type": "execute_result"
    }
   ],
   "source": [
    "import requests\n",
    "\n",
    "url = \"http://api.nbp.pl/api/exchangerates/tables/a\"\n",
    "response = requests.get(url)\n",
    "\n",
    "data = response.json()\n",
    "data"
   ]
  },
  {
   "cell_type": "code",
   "execution_count": 17,
   "id": "8e5b4289-ff8f-4d17-9b77-a7817b32b7e2",
   "metadata": {},
   "outputs": [
    {
     "name": "stdout",
     "output_type": "stream",
     "text": [
      "Kurs bat (Tajlandia) (THB): 0.108 zl\n",
      "Kurs dolar amerykański (USD): 3.9389 zl\n",
      "Kurs dolar australijski (AUD): 2.6256 zl\n",
      "Kurs dolar Hongkongu (HKD): 0.5044 zl\n",
      "Kurs dolar kanadyjski (CAD): 2.8789 zl\n",
      "Kurs dolar nowozelandzki (NZD): 2.4391 zl\n",
      "Kurs dolar singapurski (SGD): 2.9292 zl\n",
      "Kurs euro (EUR): 4.2891 zl\n",
      "Kurs forint (Węgry) (HUF): 0.011006 zl\n",
      "Kurs frank szwajcarski (CHF): 4.4284 zl\n",
      "Kurs funt szterling (GBP): 5.0371 zl\n",
      "Kurs hrywna (Ukraina) (UAH): 0.0978 zl\n",
      "Kurs jen (Japonia) (JPY): 0.025352 zl\n",
      "Kurs korona czeska (CZK): 0.1745 zl\n",
      "Kurs korona duńska (DKK): 0.5749 zl\n",
      "Kurs korona islandzka (ISK): 0.028651 zl\n",
      "Kurs korona norweska (NOK): 0.3728 zl\n",
      "Kurs korona szwedzka (SEK): 0.3799 zl\n",
      "Kurs lej rumuński (RON): 0.862 zl\n",
      "Kurs lew (Bułgaria) (BGN): 2.193 zl\n",
      "Kurs lira turecka (TRY): 0.122 zl\n",
      "Kurs nowy izraelski szekel (ILS): 1.0568 zl\n",
      "Kurs peso chilijskie (CLP): 0.004338 zl\n",
      "Kurs peso filipińskie (PHP): 0.0673 zl\n",
      "Kurs peso meksykańskie (MXN): 0.22 zl\n",
      "Kurs rand (Republika Południowej Afryki) (ZAR): 0.2092 zl\n",
      "Kurs real (Brazylia) (BRL): 0.749 zl\n",
      "Kurs ringgit (Malezja) (MYR): 0.8394 zl\n",
      "Kurs rupia indonezyjska (IDR): 0.00024323 zl\n",
      "Kurs rupia indyjska (INR): 0.047223 zl\n",
      "Kurs won południowokoreański (KRW): 0.002882 zl\n",
      "Kurs yuan renminbi (Chiny) (CNY): 0.5438 zl\n",
      "Kurs SDR (MFW) (XDR): 5.2334 zl\n"
     ]
    }
   ],
   "source": [
    "for rate in data[0]['rates']:\n",
    "    print(f\"Kurs {rate['currency']} ({rate['code']}): {rate['mid']} zl\")"
   ]
  }
 ],
 "metadata": {
  "kernelspec": {
   "display_name": "Python 3 (ipykernel)",
   "language": "python",
   "name": "python3"
  },
  "language_info": {
   "codemirror_mode": {
    "name": "ipython",
    "version": 3
   },
   "file_extension": ".py",
   "mimetype": "text/x-python",
   "name": "python",
   "nbconvert_exporter": "python",
   "pygments_lexer": "ipython3",
   "version": "3.11.1"
  }
 },
 "nbformat": 4,
 "nbformat_minor": 5
}
