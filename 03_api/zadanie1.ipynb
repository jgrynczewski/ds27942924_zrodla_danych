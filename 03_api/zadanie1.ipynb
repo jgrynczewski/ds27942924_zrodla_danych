{
 "cells": [
  {
   "cell_type": "markdown",
   "id": "2920b910-1712-4429-a64f-cc22f9c7b44c",
   "metadata": {},
   "source": [
    "### [API Narodowego Banku Polskiego](https://api.nbp.pl/)\n",
    "\n",
    "Napisz program w Pythonie, który pobierze dane o kursach wymiany walut z API Narodowego Banku Polskiego pod adresem http://api.nbp.pl/api/exchangerates/tables/a/. Program powinien wyświetlić listę walut oraz ich kursy w stosunku do złotego polskiego (PLN)."
   ]
  },
  {
   "cell_type": "code",
   "execution_count": null,
   "id": "60bb5e40-5a0f-4c49-860c-b6effd5df57a",
   "metadata": {},
   "outputs": [],
   "source": []
  }
 ],
 "metadata": {
  "kernelspec": {
   "display_name": "Python 3 (ipykernel)",
   "language": "python",
   "name": "python3"
  },
  "language_info": {
   "codemirror_mode": {
    "name": "ipython",
    "version": 3
   },
   "file_extension": ".py",
   "mimetype": "text/x-python",
   "name": "python",
   "nbconvert_exporter": "python",
   "pygments_lexer": "ipython3",
   "version": "3.11.1"
  }
 },
 "nbformat": 4,
 "nbformat_minor": 5
}
