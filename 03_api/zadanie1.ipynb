{
 "cells": [
  {
   "cell_type": "markdown",
   "id": "2920b910-1712-4429-a64f-cc22f9c7b44c",
   "metadata": {},
   "source": [
    "### [API Narodowego Banku Polskiego](https://api.nbp.pl/)\n",
    "\n",
    "Napisz program w Pythonie, który pobierze dane o kursach wymiany walut z API Narodowego Banku Polskiego pod adresem http://api.nbp.pl/api/exchangerates/tables/a/. Program powinien wyświetlić listę walut oraz ich kursy w stosunku do złotego polskiego (PLN)."
   ]
  },
  {
   "cell_type": "code",
   "execution_count": 1,
   "id": "60bb5e40-5a0f-4c49-860c-b6effd5df57a",
   "metadata": {},
   "outputs": [
    {
     "name": "stdout",
     "output_type": "stream",
     "text": [
      "Waluta: bat (Tajlandia) (THB), Kurs: 0.108 PLN\n",
      "Waluta: dolar amerykański (USD), Kurs: 3.9389 PLN\n",
      "Waluta: dolar australijski (AUD), Kurs: 2.6256 PLN\n",
      "Waluta: dolar Hongkongu (HKD), Kurs: 0.5044 PLN\n",
      "Waluta: dolar kanadyjski (CAD), Kurs: 2.8789 PLN\n",
      "Waluta: dolar nowozelandzki (NZD), Kurs: 2.4391 PLN\n",
      "Waluta: dolar singapurski (SGD), Kurs: 2.9292 PLN\n",
      "Waluta: euro (EUR), Kurs: 4.2891 PLN\n",
      "Waluta: forint (Węgry) (HUF), Kurs: 0.011006 PLN\n",
      "Waluta: frank szwajcarski (CHF), Kurs: 4.4284 PLN\n",
      "Waluta: funt szterling (GBP), Kurs: 5.0371 PLN\n",
      "Waluta: hrywna (Ukraina) (UAH), Kurs: 0.0978 PLN\n",
      "Waluta: jen (Japonia) (JPY), Kurs: 0.025352 PLN\n",
      "Waluta: korona czeska (CZK), Kurs: 0.1745 PLN\n",
      "Waluta: korona duńska (DKK), Kurs: 0.5749 PLN\n",
      "Waluta: korona islandzka (ISK), Kurs: 0.028651 PLN\n",
      "Waluta: korona norweska (NOK), Kurs: 0.3728 PLN\n",
      "Waluta: korona szwedzka (SEK), Kurs: 0.3799 PLN\n",
      "Waluta: lej rumuński (RON), Kurs: 0.862 PLN\n",
      "Waluta: lew (Bułgaria) (BGN), Kurs: 2.193 PLN\n",
      "Waluta: lira turecka (TRY), Kurs: 0.122 PLN\n",
      "Waluta: nowy izraelski szekel (ILS), Kurs: 1.0568 PLN\n",
      "Waluta: peso chilijskie (CLP), Kurs: 0.004338 PLN\n",
      "Waluta: peso filipińskie (PHP), Kurs: 0.0673 PLN\n",
      "Waluta: peso meksykańskie (MXN), Kurs: 0.22 PLN\n",
      "Waluta: rand (Republika Południowej Afryki) (ZAR), Kurs: 0.2092 PLN\n",
      "Waluta: real (Brazylia) (BRL), Kurs: 0.749 PLN\n",
      "Waluta: ringgit (Malezja) (MYR), Kurs: 0.8394 PLN\n",
      "Waluta: rupia indonezyjska (IDR), Kurs: 0.00024323 PLN\n",
      "Waluta: rupia indyjska (INR), Kurs: 0.047223 PLN\n",
      "Waluta: won południowokoreański (KRW), Kurs: 0.002882 PLN\n",
      "Waluta: yuan renminbi (Chiny) (CNY), Kurs: 0.5438 PLN\n",
      "Waluta: SDR (MFW) (XDR), Kurs: 5.2334 PLN\n"
     ]
    }
   ],
   "source": [
    "import requests\n",
    "\n",
    "url = \"http://api.nbp.pl/api/exchangerates/tables/a/\"\n",
    "\n",
    "# Wysłanie żądania GET do API\n",
    "response = requests.get(url)\n",
    "\n",
    "# Sprawdzenie statusu odpowiedzi\n",
    "if response.status_code == 200:\n",
    "    # Parsowanie danych JSON\n",
    "    data = response.json()\n",
    "    \n",
    "    # Pobranie tabeli kursów walut\n",
    "    rates = data[0]['rates']\n",
    "    \n",
    "    # Wyświetlenie informacji o walutach i ich kursach\n",
    "    for rate in rates:\n",
    "        currency = rate['currency']\n",
    "        code = rate['code']\n",
    "        mid = rate['mid']\n",
    "        print(f\"Waluta: {currency} ({code}), Kurs: {mid} PLN\")\n",
    "else:\n",
    "    print(f\"Błąd: Nie udało się pobrać danych (status code: {response.status_code})\")"
   ]
  }
 ],
 "metadata": {
  "kernelspec": {
   "display_name": "Python 3 (ipykernel)",
   "language": "python",
   "name": "python3"
  },
  "language_info": {
   "codemirror_mode": {
    "name": "ipython",
    "version": 3
   },
   "file_extension": ".py",
   "mimetype": "text/x-python",
   "name": "python",
   "nbconvert_exporter": "python",
   "pygments_lexer": "ipython3",
   "version": "3.11.1"
  }
 },
 "nbformat": 4,
 "nbformat_minor": 5
}
