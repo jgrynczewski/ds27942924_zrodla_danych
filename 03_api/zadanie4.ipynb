{
 "cells": [
  {
   "cell_type": "markdown",
   "id": "02be3228-e570-4f40-9fde-fe11939d7d8d",
   "metadata": {},
   "source": [
    "### [API Chuck Norris](https://api.chucknorris.io)\n",
    "\n",
    "Napisz program, który wykorzystuje API Chuck Norris do pobrania losowego dowcipu o Chucku Norrisie i wyświetla go na ekranie."
   ]
  },
  {
   "cell_type": "code",
   "execution_count": 3,
   "id": "cfe5ae13-315a-4575-a772-ac16861844df",
   "metadata": {},
   "outputs": [
    {
     "name": "stdout",
     "output_type": "stream",
     "text": [
      "Witaj w programie Chuck Norris - generator żartów\n"
     ]
    },
    {
     "name": "stdin",
     "output_type": "stream",
     "text": [
      "Naciśnij enter, aby wylosować dowcip... \n"
     ]
    },
    {
     "name": "stdout",
     "output_type": "stream",
     "text": [
      "Oto Twój dowcip:\n",
      "When Chuck Norris runs with scissors, other people get hurt.\n"
     ]
    }
   ],
   "source": [
    "import requests\n",
    "\n",
    "url = 'https://api.chucknorris.io/jokes/random'\n",
    "\n",
    "print(\"Witaj w programie Chuck Norris - generator żartów\")\n",
    "input(\"Naciśnij Enter, aby wylosować dowcip...\")\n",
    "\n",
    "response = requests.get(url)\n",
    "joke = response.json()['value']\n",
    "\n",
    "print(\"Oto Twój dowcip:\")\n",
    "print(joke)"
   ]
  }
 ],
 "metadata": {
  "kernelspec": {
   "display_name": "Python 3 (ipykernel)",
   "language": "python",
   "name": "python3"
  },
  "language_info": {
   "codemirror_mode": {
    "name": "ipython",
    "version": 3
   },
   "file_extension": ".py",
   "mimetype": "text/x-python",
   "name": "python",
   "nbconvert_exporter": "python",
   "pygments_lexer": "ipython3",
   "version": "3.11.1"
  }
 },
 "nbformat": 4,
 "nbformat_minor": 5
}
