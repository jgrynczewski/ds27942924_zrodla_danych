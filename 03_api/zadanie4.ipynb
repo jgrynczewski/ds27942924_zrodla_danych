{
 "cells": [
  {
   "cell_type": "markdown",
   "id": "02be3228-e570-4f40-9fde-fe11939d7d8d",
   "metadata": {},
   "source": [
    "### [API Chuck Norris](https://api.chucknorris.io)\n",
    "\n",
    "Napisz program, który wykorzystuje API Chuck Norris do pobrania losowego dowcipu o Chucku Norrisie i wyświetla go na ekranie."
   ]
  },
  {
   "cell_type": "code",
   "execution_count": 1,
   "id": "cfe5ae13-315a-4575-a772-ac16861844df",
   "metadata": {},
   "outputs": [
    {
     "name": "stdout",
     "output_type": "stream",
     "text": [
      "Witaj w programie Chuck Norris Joke Generator!\n"
     ]
    },
    {
     "name": "stdin",
     "output_type": "stream",
     "text": [
      "Naciśnij Enter, aby wylosować dowcip... \n"
     ]
    },
    {
     "name": "stdout",
     "output_type": "stream",
     "text": [
      "\n",
      "Oto Twój dowcip:\n",
      "The Chuck Norris family distillery in Waco, TX produces a smooth sipping whiskey that is 134% alcohol and appropriately labeled NorrisShine.\n"
     ]
    }
   ],
   "source": [
    "import requests\n",
    "\n",
    "url = \"https://api.chucknorris.io/jokes/random\"\n",
    "\n",
    "print(\"Witaj w programie Chuck Norris Joke Generator!\")\n",
    "input(\"Naciśnij Enter, aby wylosować dowcip...\")\n",
    "\n",
    "response = requests.get(url)\n",
    "data = response.json()\n",
    "joke = data['value']\n",
    "\n",
    "print(\"\\nOto Twój dowcip:\")\n",
    "print(joke)"
   ]
  }
 ],
 "metadata": {
  "kernelspec": {
   "display_name": "Python 3 (ipykernel)",
   "language": "python",
   "name": "python3"
  },
  "language_info": {
   "codemirror_mode": {
    "name": "ipython",
    "version": 3
   },
   "file_extension": ".py",
   "mimetype": "text/x-python",
   "name": "python",
   "nbconvert_exporter": "python",
   "pygments_lexer": "ipython3",
   "version": "3.11.1"
  }
 },
 "nbformat": 4,
 "nbformat_minor": 5
}
