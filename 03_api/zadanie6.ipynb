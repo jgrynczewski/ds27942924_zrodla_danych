{
 "cells": [
  {
   "cell_type": "markdown",
   "id": "99b39320-9171-491c-b5b7-0e0b97d84ff7",
   "metadata": {},
   "source": [
    "### [Fixer API](https://apilayer.com/marketplace/fixer-api)\n",
    "\n",
    "Fixer API to jedno z wielu dostępnych na portalu [API Layer](https://apilayer.com/) serwisów. Udostępnia informacje na temat aktualnych kursów walut. Jak wszystkie serwisy na portalu API Layer jest odpłatne, ale posiada bezpłatną wersję z kilkoma podstawowymi funkcji. Wykorzystując podstawowe funkcje Fixer API napisz program w Pythonie, który będzie przeliczał podaną jako pierwszy parametr kwotę w złotówkach na kwotę w podanej jako drugi parametr walucie. \n",
    "\n",
    "1. Za pomocą funkcji `input` zapytaj użytkownika o to, na jaką walutę chciałby przeliczyć złotówki.\n",
    "2. Zapytaj użytkownika o kwotę, jaką chciałby przeliczyć. Załóż, że użytkownik poprawnie poda walutę, np. `USD`.\n",
    "3. Za pomocą biblioteki `requests` zapytaj o aktualny kurs podanej waluty względem `PLN`. Otrzymany kurs użyj w obliczeniach, aby przeliczyć podaną kwotę na wybraną walutę, i wyświetl wynik w formie:\n",
    "\n",
    "```\n",
    "<PODANA KWOTA> PLN = <OBLICZONA KWOTA> <PODANA WALUTA>\n",
    "```\n",
    "\n",
    "Np. jeśli użytkownik poda `USD` oraz `1000`:\n",
    "\n",
    "```\n",
    "1000 PLN = 269.44 USD\n",
    "```\n",
    "\n",
    "Wynik zaokrąglij do dwóch miejsc po przecinku za pomocą funkcji `round`.\n",
    "\n",
    "#### Dodatkowo\n",
    "\n",
    "Przetestuj swój kod, podając walutę która nie istnieje. Jeśli użytkownik poda `LOL` oraz `1000` powinien otrzymać informację zwrotną postaci:\n",
    "\n",
    "```\n",
    "Nie ma takiej waluty!\n",
    "```"
   ]
  },
  {
   "cell_type": "code",
   "execution_count": 10,
   "id": "8104e1ad-4cbf-4b0f-86a7-caf72b459fc4",
   "metadata": {},
   "outputs": [
    {
     "name": "stdin",
     "output_type": "stream",
     "text": [
      "Podaj walutę, na którą chcesz przeliczyć zlotówki:  USD\n",
      "Podaj kwotę (w zlotówkach):  500\n"
     ]
    },
    {
     "name": "stdout",
     "output_type": "stream",
     "text": [
      "500.0 PLN = 124.93 USD\n"
     ]
    }
   ],
   "source": [
    "import requests\n",
    "\n",
    "currency = input(\"Podaj walutę, na którą chcesz przeliczyć zlotówki: \").upper()\n",
    "amount = float(input(\"Podaj kwotę (w zlotówkach): \"))\n",
    "\n",
    "url = f'https://api.apilayer.com/fixer/latest'\n",
    "headers = {\n",
    "    'apikey': 'qLZBrPlMowbv889b0PUB5YchUeh8b7X9'\n",
    "}\n",
    "\n",
    "response = requests.get(\n",
    "    url, \n",
    "    headers=headers,\n",
    "    params={\n",
    "        'base': 'PLN',\n",
    "        'symbols': {currency}\n",
    "    }\n",
    ")\n",
    "# print(response.request.headers)\n",
    "data = response.json()\n",
    "\n",
    "factor = data['rates'][currency]\n",
    "res = round(amount * factor, 2)\n",
    "\n",
    "print(f\"{amount} PLN = {res} {currency}\")"
   ]
  }
 ],
 "metadata": {
  "kernelspec": {
   "display_name": "Python 3 (ipykernel)",
   "language": "python",
   "name": "python3"
  },
  "language_info": {
   "codemirror_mode": {
    "name": "ipython",
    "version": 3
   },
   "file_extension": ".py",
   "mimetype": "text/x-python",
   "name": "python",
   "nbconvert_exporter": "python",
   "pygments_lexer": "ipython3",
   "version": "3.11.1"
  }
 },
 "nbformat": 4,
 "nbformat_minor": 5
}
