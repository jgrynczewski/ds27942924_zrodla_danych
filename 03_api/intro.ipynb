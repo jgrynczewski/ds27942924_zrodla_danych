{
 "cells": [
  {
   "cell_type": "markdown",
   "id": "b8ad01f7-c88c-4723-a3dc-31d13aa9f4d4",
   "metadata": {},
   "source": [
    "Strony z listami dostępnych w sieci serwisów API (Application Programming Interface):\n",
    "- https://github.com/public-apis/public-apis\n",
    "- https://apipheny.io/free-api/\n",
    "- https://mixedanalytics.com/blog/list-actually-free-open-no-auth-needed-apis/\n",
    "- https://www.linkedin.com/pulse/21-open-free-apis-developers-vineet-prasad-1xfuc/\n"
   ]
  }
 ],
 "metadata": {
  "kernelspec": {
   "display_name": "Python 3 (ipykernel)",
   "language": "python",
   "name": "python3"
  },
  "language_info": {
   "codemirror_mode": {
    "name": "ipython",
    "version": 3
   },
   "file_extension": ".py",
   "mimetype": "text/x-python",
   "name": "python",
   "nbconvert_exporter": "python",
   "pygments_lexer": "ipython3",
   "version": "3.11.1"
  }
 },
 "nbformat": 4,
 "nbformat_minor": 5
}
